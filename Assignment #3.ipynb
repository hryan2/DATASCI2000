{
 "cells": [
  {
   "attachments": {},
   "cell_type": "markdown",
   "metadata": {
    "collapsed": true
   },
   "source": [
    "# Assignment 3\n",
    "## Learning Outcomes\n",
    "By completing this assignment, you will be able to implement and use randomization tests to determine whether a specific effect is statistically significant. Randomization tests are a highly universal and powerful way to do this, and form an essential part of the toolkit of any Data Scientist. \n",
    "\n",
    "## Problem Description\n",
    "An increasingly common statistical tool for determining whether a difference is significant is the randomization or permutation test. A randomization test builds - rather than assumes – a sampling distribution of the test statistics. This is achieved by exchanging or permuting variables which are “exchangeable” under the Null-hypothesis. A randomization test gives a simple way to compute the sampling distribution for any test statistic under the null hypothesis that the dependent variable is statistically not dependent on the shuffled variable. \n",
    "In this assignment, we continue with the movie dataset from last week. This week your main task is to determine whether the difference in proportion for female vs. male directors to direct action movies is significant. \n",
    "You are allowed to use standard numpy and pandas functions such as mean, groupby, shuffle. But you are not allowed to use a permutation functions that have been already been designed. Numeric calculations in python that are printed should be rounded to 6 decimal places. \n",
    "\n",
    "Methods that you may find beneficial. \n",
    "Pandas: crosstab, iloc. Numpy: random.shuffle, reset_index, matplotlib: hist, axvline \n",
    "\n",
    "## Preliminaries \n",
    "Import pandas, numpy, matplotlib, and load the dataset file"
   ]
  },
  {
   "cell_type": "code",
   "execution_count": 139,
   "metadata": {},
   "outputs": [],
   "source": [
    "import pandas as pd\n",
    "import numpy as np\n",
    "\n",
    "import matplotlib\n",
    "matplotlib.use('TkAgg')\n",
    "import matplotlib.pyplot as plt\n",
    "%matplotlib inline\n",
    "\n",
    "df = pd.read_csv('movieDataset.csv')"
   ]
  },
  {
   "attachments": {},
   "cell_type": "markdown",
   "metadata": {
    "scrolled": true
   },
   "source": [
    "## TASK 1: Defining the test statistics (40pts)\n",
    "### Question 1 - Create contingency table of adventure (yes/no) by director gender (10pts)\n",
    "Generate a cross-tabulation table of the 2x2 proportions of directorGender vs. whether the movie is an adventure or not (all other genres should be combined into non-adventure movies)."
   ]
  },
  {
   "cell_type": "code",
   "execution_count": 140,
   "metadata": {},
   "outputs": [
    {
     "data": {
      "text/html": [
       "<div>\n",
       "<style scoped>\n",
       "    .dataframe tbody tr th:only-of-type {\n",
       "        vertical-align: middle;\n",
       "    }\n",
       "\n",
       "    .dataframe tbody tr th {\n",
       "        vertical-align: top;\n",
       "    }\n",
       "\n",
       "    .dataframe thead th {\n",
       "        text-align: right;\n",
       "    }\n",
       "</style>\n",
       "<table border=\"1\" class=\"dataframe\">\n",
       "  <thead>\n",
       "    <tr style=\"text-align: right;\">\n",
       "      <th>dirGender</th>\n",
       "      <th>female</th>\n",
       "      <th>male</th>\n",
       "      <th>All</th>\n",
       "    </tr>\n",
       "    <tr>\n",
       "      <th>genre</th>\n",
       "      <th></th>\n",
       "      <th></th>\n",
       "      <th></th>\n",
       "    </tr>\n",
       "  </thead>\n",
       "  <tbody>\n",
       "    <tr>\n",
       "      <th>False</th>\n",
       "      <td>31</td>\n",
       "      <td>155</td>\n",
       "      <td>186</td>\n",
       "    </tr>\n",
       "    <tr>\n",
       "      <th>True</th>\n",
       "      <td>6</td>\n",
       "      <td>58</td>\n",
       "      <td>64</td>\n",
       "    </tr>\n",
       "    <tr>\n",
       "      <th>All</th>\n",
       "      <td>37</td>\n",
       "      <td>213</td>\n",
       "      <td>250</td>\n",
       "    </tr>\n",
       "  </tbody>\n",
       "</table>\n",
       "</div>"
      ],
      "text/plain": [
       "dirGender  female  male  All\n",
       "genre                       \n",
       "False          31   155  186\n",
       "True            6    58   64\n",
       "All            37   213  250"
      ]
     },
     "metadata": {},
     "output_type": "display_data"
    }
   ],
   "source": [
    "ctable = pd.crosstab(df['genre'] == 'adventure', df['dirGender'], margins = True)\n",
    "display(ctable)"
   ]
  },
  {
   "attachments": {},
   "cell_type": "markdown",
   "metadata": {},
   "source": [
    "### Question 2 - Calculate p(adventure|female)-p(adventure|male) (20pts)\n",
    "Calculate the probability that the movie is an adventure given that the director Gender is female, p(adventure|female), the probability of the movie is an adventure given that the director Gender is male, p(adventure|male), as well as the difference between these two numbers, p(adventure|female)- p(adventure|male)."
   ]
  },
  {
   "cell_type": "code",
   "execution_count": 141,
   "metadata": {},
   "outputs": [
    {
     "name": "stdout",
     "output_type": "stream",
     "text": [
      "0.16216216216216217\n",
      "0.27230046948356806\n",
      "-0.11013830732140589\n"
     ]
    }
   ],
   "source": [
    "pAdvFemale = ctable['female'][True] / ctable['female']['All']\n",
    "pAdvMale = ctable['male'][True] / ctable['male']['All']\n",
    "pAdventure = pAdvFemale - pAdvMale\n",
    "\n",
    "print(pAdvFemale)\n",
    "print(pAdvMale)\n",
    "print(pAdventure)"
   ]
  },
  {
   "attachments": {},
   "cell_type": "markdown",
   "metadata": {},
   "source": [
    "### Question 3 - Define a function that calculates the difference in average income by gender (10pts)\n",
    "Write a function (e.g., https://www.tutorialspoint.com/python/python_functions.htm) that takes the data frame as an input and returns the difference between the average income of male directors in adventure and the average income of female directors in adventure."
   ]
  },
  {
   "cell_type": "code",
   "execution_count": 142,
   "metadata": {},
   "outputs": [],
   "source": [
    "def averageInc(dataframe):\n",
    "    #Calculating the mean of dirIncome for each gender in each genre\n",
    "    genderInc = dataframe.groupby(['dirGender', 'genre']).agg({'dirIncome': ['mean']})\n",
    "    genderInc.columns = genderInc.columns.droplevel(1) #This gets rid of the mean title in the dirIncome column\n",
    "    genderInc = genderInc.reset_index()\n",
    "    \n",
    "    maleAdvInc = genderInc.iloc[6]['dirIncome'] #Getting the value of dirIncome for male directors in adventure\n",
    "    femaleAdvInc = genderInc.iloc[1]['dirIncome'] #Getting the value of dirIncome for female directors in adventure\n",
    "    diffInc = maleAdvInc - femaleAdvInc\n",
    "    \n",
    "    return diffInc\n",
    "\n",
    "#diff = averageInc(df)\n",
    "#print(f'Average difference director income from adventure movies: {diff}')"
   ]
  },
  {
   "attachments": {},
   "cell_type": "markdown",
   "metadata": {},
   "source": [
    "## Task 2: Perform a permutation test (60pts)\n",
    "### Question 1 (10pts)\n",
    "Written answer: We want to test the hypothesis that female directors of adventure movies earn less, on average, than male directors of adventure movies. What is the Null-hypothesis we need to consider? "
   ]
  },
  {
   "cell_type": "code",
   "execution_count": 143,
   "metadata": {},
   "outputs": [],
   "source": [
    "#The Null-hypothesis we need to consider for this situation is HIncome: averageFInc >= averageMInc\n",
    "#The alternative-hypothesis would be HIncome: averageMInc < averageFInc\n",
    "#Such that averageFInc is the average income of a female adventure movie director and averageMInc is the average income of a male adventure movie director"
   ]
  },
  {
   "attachments": {},
   "cell_type": "markdown",
   "metadata": {},
   "source": [
    "### Question 2 (40pts)\n",
    "Perform a permutation test. Under the Null-hypothesis the director gender is exchangeable. Write a function that takes the data frame as an input and then randomly permutes the directorGender column. For each iteration, the function then calls the function written for Task1, Q3 to get the test statistic. Each iteration, the test statistic should  be stored in a list. It is important to mention that the gender must be randomly assigned each time prior to calculating the difference of the conditional probabilities. \n",
    "\n",
    "After bulding up the numpy array of test statistics, the function should plot a histogram of the test statistics and mark the value of the empirical test statistics by a vertical line (see https://matplotlib.org/api/_as_gen/matplotlib.axes.Axes.axvline.html). Finally, it should report the p-value. \n",
    "\n",
    "For Pseudo code see lecture. Start with 500 iterations to test your code – for the final result, use 5000 iterations."
   ]
  },
  {
   "cell_type": "code",
   "execution_count": 144,
   "metadata": {},
   "outputs": [
    {
     "name": "stdout",
     "output_type": "stream",
     "text": [
      "The p value is 0.0\n"
     ]
    },
    {
     "data": {
      "image/png": "[encoded data removed]",
      "text/plain": [
       "<Figure size 432x288 with 1 Axes>"
      ]
     },
     "metadata": {
      "needs_background": "light"
     },
     "output_type": "display_data"
    }
   ],
   "source": [
    "def permuteTest(dataframe):\n",
    "    df_copy = dataframe.copy()\n",
    "    statDiff1 = averageInc(df_copy)\n",
    "    statDiff2 = []\n",
    "    \n",
    "    for i in range(0, 5000):\n",
    "        shuffleVar = np.random.randint(2, size = len(df_copy.index))\n",
    "        df_copy['dirGender'] = shuffleVar\n",
    "        statDiff2.append(averageInc(df_copy))\n",
    "    \n",
    "    #Plot histogram of shuffled data array\n",
    "    plt.hist(statDiff2, bins = 20)\n",
    "    plt.xlabel('Male-Female Income')\n",
    "    plt.ylabel('Frequency')\n",
    "    plt.axvline(x = statDiff1, color = 'black')\n",
    "    \n",
    "    #Calculating p-value\n",
    "    H0 = statDiff2 >= statDiff1\n",
    "    N = sum(H0)\n",
    "    p = N/len(df_copy)\n",
    "    print(f'The p value is {p}')\n",
    "    \n",
    "permuteTest(df)"
   ]
  },
  {
   "attachments": {},
   "cell_type": "markdown",
   "metadata": {},
   "source": [
    "Figure 1: Permutated Histogram plot of the difference in average direction income between male and female directors"
   ]
  },
  {
   "attachments": {},
   "cell_type": "markdown",
   "metadata": {},
   "source": [
    "### Question 3 (10pts)\n",
    "Written response: What do you conclude from this result?\n"
   ]
  },
  {
   "cell_type": "code",
   "execution_count": 145,
   "metadata": {},
   "outputs": [],
   "source": [
    "#Given these results, we can conclude that we don't need to reject the null-hypothesis as seen with the rejection zone, most of the data is below the rejection zone.\n",
    "#Also, given the p value, we can conclude that when the null-hypothesis is true, we have a 0% chance of rejecting it.  From the p-value we can further conclude that our test is statistcally significant."
   ]
  }
 ],
 "metadata": {
  "kernelspec": {
   "display_name": "Python 3 (ipykernel)",
   "language": "python",
   "name": "python3"
  },
  "language_info": {
   "codemirror_mode": {
    "name": "ipython",
    "version": 3
   },
   "file_extension": ".py",
   "mimetype": "text/x-python",
   "name": "python",
   "nbconvert_exporter": "python",
   "pygments_lexer": "ipython3",
   "version": "3.9.7"
  }
 },
 "nbformat": 4,
 "nbformat_minor": 2
}

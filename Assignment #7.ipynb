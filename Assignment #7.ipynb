{
 "cells": [
  {
   "attachments": {},
   "cell_type": "markdown",
   "metadata": {},
   "source": [
    "# Assignment 7\n",
    "\n",
    "### Learning Outcomes\n",
    "This assignment introduces you to multiple regression analysis, model comparision between different multiple regression models and bootstrap for regression models. \n",
    "### Data set \n",
    "An investigator is interested in understanding the relationship, if any, between the analytical skills of young gifted children and the following variables: father’s IQ, mother’s IQ, age in month when the child first said ‘mummy’ or ‘daddy’, age in month when the child first counted to 10 successfully, average number of hours per week the child’s mother or father reads to the child, average number of hours per week the child watched an educational program on TV during the past three months, average number of hours per week the child watched cartoons on TV during the past three months. \n",
    "\n",
    "The analytical skills are evaluated using a standard testing procedure, and the score on this test is used as the response variable. Data were collected from schools in a large city on a set of thirty-six children who were identified as gifted children soon after they reached the age of four.\n",
    " \n",
    "The data frame stored in gifted.csv contains the variables: \n",
    "- score:       Score in test of analytical skills.\n",
    "- fatheriq:    Father’s IQ.\n",
    "- motheriq:  Mother’s IQ.\n",
    "- speak:       Age in months when the child first said ‘mummy’ or ‘daddy’.\n",
    "- count:       Age in months when the child first counted to 10 successfully.\n",
    "- read:         Average number of hours per week the child’s mother or father reads to the child.\n",
    "- edutv:       Average number of hours per week the child watched an educational program on TV during the past three months.\n",
    "- cartoons:  Average number of hours per week the child watched cartoons on TV during the past three months.\n"
   ]
  },
  {
   "cell_type": "code",
   "execution_count": 3,
   "metadata": {},
   "outputs": [],
   "source": [
    "import matplotlib\n",
    "matplotlib.use('TkAgg')\n",
    "import matplotlib.pyplot as plt \n",
    "%matplotlib inline\n",
    "import scipy.optimize as so\n",
    "import pandas as pd \n",
    "import numpy as np\n",
    "import statsmodels.formula.api as sm\n",
    "import statsmodels.api as ss\n",
    "import seaborn as sns"
   ]
  },
  {
   "cell_type": "code",
   "execution_count": 2,
   "metadata": {},
   "outputs": [],
   "source": [
    "df = pd.read_csv('gifted.csv')"
   ]
  },
  {
   "attachments": {},
   "cell_type": "markdown",
   "metadata": {},
   "source": [
    "## Task 1: Implementing multiple regression ( / 28 pts)\n",
    "### Question 1. ( / 6 pts)\n",
    "Implement the function multRegPredict(b,D,xname). \n",
    "  - b is a list of parameter, with the first one being the intercept \n",
    "  - D is a DataFrame that contains the regressors\n",
    "  - xname is a list of column names in D that will be added as regressors \n",
    "\n",
    "b needs to contain one more parameter (the intercept) than the numbers of regressors in xname. It will be helpful to start from the corresponding functions for polynomial regression. \n",
    "\n",
    "Then make a scatterplot of D.read and D.score \n",
    "Call your new function with yp = multRegPredict([134,11.8], D,['read']) and add predicted values to your plot (just call plt.scatter again – the dots will be added in a different color).  "
   ]
  },
  {
   "cell_type": "code",
   "execution_count": 146,
   "metadata": {},
   "outputs": [
    {
     "name": "stdout",
     "output_type": "stream",
     "text": [
      "The yp is: 0     156.42\n",
      "1     163.50\n",
      "2     159.96\n",
      "3     154.06\n",
      "4     159.96\n",
      "5     156.42\n",
      "6     155.24\n",
      "7     161.14\n",
      "8     158.78\n",
      "9     158.78\n",
      "10    159.96\n",
      "11    161.14\n",
      "12    159.96\n",
      "13    154.06\n",
      "14    155.24\n",
      "15    157.60\n",
      "16    161.14\n",
      "17    159.96\n",
      "18    159.96\n",
      "19    157.60\n",
      "20    162.32\n",
      "21    158.78\n",
      "22    161.14\n",
      "23    161.14\n",
      "24    161.14\n",
      "25    161.14\n",
      "26    162.32\n",
      "27    162.32\n",
      "28    155.24\n",
      "29    158.78\n",
      "30    157.60\n",
      "31    159.96\n",
      "32    158.78\n",
      "33    158.78\n",
      "34    161.14\n",
      "35    159.96\n",
      "Name: read, dtype: float64\n"
     ]
    },
    {
     "data": {
      "text/plain": [
       "<AxesSubplot:xlabel='read', ylabel='score'>"
      ]
     },
     "execution_count": 146,
     "metadata": {},
     "output_type": "execute_result"
    },
    {
     "data": {
      "image/png": "[encoded data removed]",
      "text/plain": [
       "<Figure size 432x288 with 1 Axes>"
      ]
     },
     "metadata": {
      "needs_background": "light"
     },
     "output_type": "display_data"
    }
   ],
   "source": [
    "def multRegPredict(b, data, xname):\n",
    "    yp = b[0] * np.ones((len(df.index)))\n",
    "    \n",
    "    for i in range(len(xname)):\n",
    "        yp += b[i + 1] * df[xname[i]]\n",
    "    return yp\n",
    "\n",
    "#Function testing\n",
    "yp = multRegPredict([134, 11.8], df, ['read'])\n",
    "print(f'The yp is: {yp}')\n",
    "sns.scatterplot(x = df['read'], y = df['score'])\n",
    "sns.scatterplot(x = df['read'], y = yp)"
   ]
  },
  {
   "attachments": {},
   "cell_type": "markdown",
   "metadata": {},
   "source": [
    "Figure 1: Scatter plot of D.read and D.score with both the normal and predicted values (predicted is orange)"
   ]
  },
  {
   "attachments": {},
   "cell_type": "markdown",
   "metadata": {},
   "source": [
    "### Question 2. ( / 10 pts)\n",
    "Implement the function multRegLossRSS(b,D,y,xname). y is a list or np-array for the response variable. The function should get the predictions from multRegPredict, and then calculate the residual sum-of-squares, and the derivative of the loss function in respect to each parameter. Test the function by calling multRegLossRSS([134,11.8],D,D.score,['read']). Report the resulting RSS for the regression of score (response variable) against read (explanatory variable)- as well as the derivatives for each parameter. Written answer: From the value of the derivative, do you have to increase or decrease the slope parameter to get a better fit?"
   ]
  },
  {
   "cell_type": "code",
   "execution_count": 26,
   "metadata": {},
   "outputs": [
    {
     "name": "stdout",
     "output_type": "stream",
     "text": [
      "The RSS value is 543.5100000000003 and the derivative is [ 4.84 10.3 ]\n"
     ]
    }
   ],
   "source": [
    "def multRegLossRSS(b, data, y, xname):\n",
    "    yPred = multRegPredict(b, data, xname)\n",
    "    res = y - yPred\n",
    "    rss = sum(res ** 2)\n",
    "    \n",
    "    grad = np.zeros((len(xname) + 1))\n",
    "    grad[0] = -2 * sum(res)\n",
    "    \n",
    "    for i in range(len(xname)):\n",
    "        x = df[xname[i]]\n",
    "        grad[i + 1] = -2 * (sum(x * res))\n",
    "    return (rss, grad)\n",
    "\n",
    "#Function testing\n",
    "rss, grad = multRegLossRSS([134, 11.8], df, df['score'], ['read'])\n",
    "print(f'The RSS value is {rss} and the derivative is {grad}' )"
   ]
  },
  {
   "attachments": {},
   "cell_type": "markdown",
   "metadata": {},
   "source": [
    "Written Answer: From the resulting derivative, we would most likely have to decrease the slope parameter in both cases"
   ]
  },
  {
   "attachments": {},
   "cell_type": "markdown",
   "metadata": {},
   "source": [
    "### Question 3 ( / 12 pts)\n",
    "Implement the function multRegFit(D,y,xname), which uses so.minimize and multRegLossRSS to estimate the parameter values, and then calls multRegLossRSS again to calculate the R2 of the fit. The function should then return the R2 values and regression coefficients b. Use this print on the screen the R2-values for the models:\n",
    "\n",
    "- y = b0  (hint, set xname = [])\n",
    "- y = b0 + b1 \\* read \n",
    "- y = b0 + b1 \\* motheriq \n",
    "- y = b0 + b1 \\* motheriq + b2 \\* read\n",
    "\n",
    "Which model has the highest R2? How do you interpret these results? How much of the variance of the response variable is uniquely explained by reading, how much by motheriq? Do the two variables explain each other away, explain independent parts of the variance, or show suppression? "
   ]
  },
  {
   "cell_type": "code",
   "execution_count": 118,
   "metadata": {},
   "outputs": [
    {
     "name": "stdout",
     "output_type": "stream",
     "text": [
      "The y1 value is: 3.3306690738754696e-16\n",
      "The y2 value is: 0.2758322729769078\n",
      "The y3 value is: 0.3263173772377883\n",
      "The y4 value is: 0.6291342380411358\n"
     ]
    }
   ],
   "source": [
    "def multRegFit(data, y, xname):\n",
    "    b0 = np.zeros(len(xname) + 1)\n",
    "    RES = so.minimize(multRegLossRSS, b0, args = (data, y, xname), jac = True)\n",
    "    b = RES.x\n",
    "    \n",
    "    res = y - np.mean(y)\n",
    "    TSS = sum(res ** 2)\n",
    "    RSS, grad = multRegLossRSS(b, data, y, xname)\n",
    "    R2 = 1 - (RSS / TSS)\n",
    "    return (R2, b)\n",
    "\n",
    "#Function testing\n",
    "R2_y1, b0 = multRegFit(df, df['score'], [])\n",
    "R2_y2, b1 = multRegFit(df, df['score'], ['read'])\n",
    "R2_y3, b2 = multRegFit(df, df['score'], ['motheriq'])\n",
    "R2_y4, b3 = multRegFit(df, df['score'], ['motheriq', 'read'])\n",
    "\n",
    "print(f'The y1 value is: {R2_y1}')\n",
    "print(f'The y2 value is: {R2_y2}')\n",
    "print(f'The y3 value is: {R2_y3}')\n",
    "print(f'The y4 value is: {R2_y4}')"
   ]
  },
  {
   "attachments": {},
   "cell_type": "markdown",
   "metadata": {},
   "source": [
    "Written Answer: The model that has the highest R2 is model 4.  The two variables do not explain each other away as they both have a similar influence on score and due to the large increase in R2 of the combined model, there is most likely some suppression between the variables."
   ]
  },
  {
   "attachments": {},
   "cell_type": "markdown",
   "metadata": {},
   "source": [
    "## Task 2: Do crossvalidation on these models  ( / 32 pts)\n",
    "### Question 1 ( / 12 pts)\n",
    "Modify the leaveOneOutCV function, so it works on a data frame with the multiple regression analysis. The inputs to the function are:  \n",
    "\n",
    "def leaveOneOutCV(D,y,args=(),fitfcn=multRegFit,predictfcn=multRegPredict):\n",
    " - D: Data Frame with explanatory variables \n",
    " - y: A list or np-array of the response variable\n",
    " - args: Input arguments for the fitfcn and predict function (xname) \n",
    " - fitfcn: Function for fitting called as fitfcn(D,y,args)\n",
    " - predictfcn: Function for prediction called as predictfcn(D,y,args)\n"
   ]
  },
  {
   "cell_type": "code",
   "execution_count": 166,
   "metadata": {},
   "outputs": [],
   "source": [
    "def leaveOneOutCV(data, y, args = (), fitfunc = multRegFit, predictfunc = multRegPredict):\n",
    "    N = len(df.index) #Number of observations \n",
    "    \n",
    "    for i in range(N):\n",
    "        df_train = df.iloc[df.index != i]\n",
    "        df_test = df.iloc[df.index == i]\n",
    "        r,b = fitfunc(df_train, df_train['score'], args)\n",
    "        yp = predictfunc(b, df_test, args)\n",
    "    \n",
    "    TSS  = sum((y - y.mean()) ** 2)\n",
    "    RSScv = sum((y - yp) ** 2) #had an issue with this number being very large and always the same\n",
    "    R2cv = 1 - (RSScv / TSS)\n",
    "    r,b=fitfunc(data, y, args)\n",
    "    yf=predictfunc(b, data, args)\n",
    "    RSS = sum((y - yf) ** 2)\n",
    "    R2 = 1 - (RSS / TSS)\n",
    "    return R2cv,R2"
   ]
  },
  {
   "attachments": {},
   "cell_type": "markdown",
   "metadata": {},
   "source": [
    "### Question 2 ( / 8 pts)\n",
    "Call the function to get the cross-validated R2 for the 4 models specified in Task 1, Question 3. How to you interpret these results? Is there evidence that reading increases the analytic score over and above what the IQ of the mother does? "
   ]
  },
  {
   "cell_type": "code",
   "execution_count": 167,
   "metadata": {},
   "outputs": [
    {
     "name": "stdout",
     "output_type": "stream",
     "text": [
      "MODEL 2: The R2cv value is -1215.1138795305612 and the R2 value is 0.2758322729769078\n",
      "MODEL 3: The R2cv value is -1215.1138795305612 and the R2 value is 0.3263173772377883\n",
      "MODEL 4: The R2cv value is -1215.1138795305612 and the R2 value is 0.6291342380411358\n"
     ]
    }
   ],
   "source": [
    "#R2cv1, R21 = leaveOneOutCV(df, df['score'], []) - Bug with this one not having the right shape to broadcast?\n",
    "R2cv2, R22 = leaveOneOutCV(df, df['score'], ['read'])\n",
    "R2cv3, R23 = leaveOneOutCV(df, df['score'], ['motheriq'])\n",
    "R2cv4, R24 = leaveOneOutCV(df, df['score'], ['motheriq', 'read'])\n",
    "#print(f'MODEL 1: The R2cv value is {R2cv1} and the R2 value is {R21}')\n",
    "print(f'MODEL 2: The R2cv value is {R2cv2} and the R2 value is {R22}')\n",
    "print(f'MODEL 3: The R2cv value is {R2cv3} and the R2 value is {R23}')\n",
    "print(f'MODEL 4: The R2cv value is {R2cv4} and the R2 value is {R24}')"
   ]
  },
  {
   "attachments": {},
   "cell_type": "markdown",
   "metadata": {},
   "source": [
    "Written Answer: There is evidence that reading increases analytic score over the IQ of what the mother does."
   ]
  },
  {
   "attachments": {},
   "cell_type": "markdown",
   "metadata": {},
   "source": [
    "### Question 3 ( / 4 pts)\n",
    "Add the variable fatheriq to the model containing read and motheriq. Is there evidence that the IQ of the father improves the prediction over and above what hours reading and mother IQ can predict? "
   ]
  },
  {
   "cell_type": "code",
   "execution_count": 103,
   "metadata": {},
   "outputs": [
    {
     "name": "stdout",
     "output_type": "stream",
     "text": [
      "The R2cv value is -1215.1138795305612 and the R2 value is 0.6872499977248241\n"
     ]
    }
   ],
   "source": [
    "R2cv, R2 = leaveOneOutCV(df, df['score'], ['motheriq', 'fatheriq', 'read'])\n",
    "print(f'The R2cv value is {R2cv} and the R2 value is {R2}')"
   ]
  },
  {
   "attachments": {},
   "cell_type": "markdown",
   "metadata": {},
   "source": [
    "Written Answer: There is also evidence that the IQ of the father improves prediction above the hours of reading and mother IQ can."
   ]
  },
  {
   "attachments": {},
   "cell_type": "markdown",
   "metadata": {},
   "source": [
    "### Question 4 ( / 8 pts)\n",
    "Is edutv (hours of educational TV) alone a reliable predictor of the analytic score? Does it add prediction power over and above from what the model motheriq + read + fatheriq can predict? \n"
   ]
  },
  {
   "cell_type": "code",
   "execution_count": 105,
   "metadata": {},
   "outputs": [
    {
     "name": "stdout",
     "output_type": "stream",
     "text": [
      "The R2cv value is -1215.1138795305612 and the R2 value is 0.13709229573136816\n",
      "The R2cv value is -1215.1138795305612 and the R2 value is 0.7002993395259488\n"
     ]
    }
   ],
   "source": [
    "R2cv, R2 = leaveOneOutCV(df, df['score'], ['edutv'])\n",
    "print(f'The R2cv value is {R2cv} and the R2 value is {R2}')\n",
    "R2cv_5, R2_5 = leaveOneOutCV(df, df['score'], ['edutv', 'motheriq', 'fatheriq', 'read'])\n",
    "print(f'The R2cv value is {R2cv_5} and the R2 value is {R2_5}')"
   ]
  },
  {
   "attachments": {},
   "cell_type": "markdown",
   "metadata": {},
   "source": [
    "Written Answer: No edutv alone is not a good predictor of analytic score however it does slightly help combined with fatheriq, motheriq and reading."
   ]
  },
  {
   "attachments": {},
   "cell_type": "markdown",
   "metadata": {},
   "source": [
    "## Task 3: Bootstrap for multiple regression. ( / 40 pts)\n",
    "### Question 1 ( / 14 pts)\n",
    "Implement bootstrap for linear regression. Start from the function bootstrap. The function should have input parameters\n",
    "def bootstrapReg(D,y,args,fitfcn,numIter=500):\n",
    "and should return a numIter x numParams np.array of bootstrap estimates.  \n",
    "numParams is the length of b-vector returned from the fitfcn (in our case multiRegFit). That is, each column of the array should be the boostrap estimates for one of the regression coefficients. \n",
    "\n",
    "Run the bootstrap on the data set in gifted.csv. Run the bootstrap on a simple regression model that explains ‘score’ from the explanatory variable ‘edutv’ alone. Report the CI for edutv -slope. Does the CI include zero- i.e. is the relationship between edutv and score significant? Which direction is the association between the two variables? "
   ]
  },
  {
   "cell_type": "code",
   "execution_count": 163,
   "metadata": {},
   "outputs": [
    {
     "name": "stdout",
     "output_type": "stream",
     "text": [
      "The confidence interval is: (-3.0666666506167752, 165.14444440252257)\n"
     ]
    }
   ],
   "source": [
    "def confidenceInt(data,perc):\n",
    "    tail = (100-perc)/2 # Weight on each tail  \n",
    "    Int=(np.percentile(data,tail),np.percentile(data,100-tail))\n",
    "    return Int\n",
    "\n",
    "def bootstrapReg(data, y, args, fitfunc = multRegFit, numIter = 500):\n",
    "    R2_0, b0 = fitfunc(data, y, args)\n",
    "    numParam = len(b0)\n",
    "    N = len(df.index)\n",
    "    indArray = np.arange(N)\n",
    "    stats = np.zeros([numIter, numParam])\n",
    "    \n",
    "    for i in range(numIter):\n",
    "        samp = np.random.choice(indArray, N, replace = True)\n",
    "        sampDf = df.iloc[samp]\n",
    "        R2, b = fitfunc(sampDf, y, args)\n",
    "        stats[i, :] = b\n",
    "    \n",
    "    return stats\n",
    "        \n",
    "#Function testing\n",
    "stats1 = bootstrapReg(df, df['score'], ['edutv'], multRegFit)\n",
    "cI_1 = confidenceInt(stats1, 95)\n",
    "print(f'The confidence interval is: {cI_1}')"
   ]
  },
  {
   "attachments": {},
   "cell_type": "markdown",
   "metadata": {},
   "source": [
    "Written Answer: The CI does include zero in this case and there is not a significant relationship between score and edutv alone."
   ]
  },
  {
   "attachments": {},
   "cell_type": "markdown",
   "metadata": {},
   "source": [
    "### Question 2 ( / 8 pts)\n",
    "Run the bootstrap on the model that explains score as a function of hours of cartoons watched. Is there a significant relationship between ‘cartoons’ and ‘score’? "
   ]
  },
  {
   "cell_type": "code",
   "execution_count": 161,
   "metadata": {},
   "outputs": [
    {
     "name": "stdout",
     "output_type": "stream",
     "text": [
      "The confidence interval is: (1.8074745654714108, 153.60349801957284)\n"
     ]
    }
   ],
   "source": [
    "stats2 = bootstrapReg(df, df['score'], ['cartoons'], multRegFit)\n",
    "cI_2 = confidenceInt(stats2, 95)\n",
    "print(f'The confidence interval is: {cI_2}')"
   ]
  },
  {
   "attachments": {},
   "cell_type": "markdown",
   "metadata": {},
   "source": [
    "Written Answer: There is a more significant relationship between cartoons and score than edutv however it is still not that significant."
   ]
  },
  {
   "attachments": {},
   "cell_type": "markdown",
   "metadata": {},
   "source": [
    "### Question 3 ( / 8 pts)\n",
    "Run the bootstrap on a model that explains score as a function of edutv and cartoons. Report the CIs for both variabless. Do the conclusion from Question 1 and 2 change? Have the CIs become smaller or larger as compared to the simple regression models from Question 1 and 2?"
   ]
  },
  {
   "cell_type": "code",
   "execution_count": 129,
   "metadata": {},
   "outputs": [
    {
     "name": "stdout",
     "output_type": "stream",
     "text": [
      "The confidence interval is: (-8.094685650680333, 189.83783519852872)\n"
     ]
    }
   ],
   "source": [
    "stats3 = bootstrapReg(df, df['score'], ['cartoons', 'edutv'], multRegFit)\n",
    "cI_3 = confidenceInt(stats3, 95)\n",
    "print(f'The confidence interval is: {cI_3}')"
   ]
  },
  {
   "attachments": {},
   "cell_type": "markdown",
   "metadata": {},
   "source": [
    "Written Answer: No, the conclusions do not change from questions 1 and 2 as the CI's have become more extreme in both sides of the interval from those questions."
   ]
  },
  {
   "attachments": {},
   "cell_type": "markdown",
   "metadata": {},
   "source": [
    "### Question 4 ( / 10 pts)\n",
    "Plot the bootstrap estimates for edutv and cartoons from Question 3 against each other in a scatter plot. Are they positively or negatively related? What does this mean for the relationship between the regressors?"
   ]
  },
  {
   "cell_type": "code",
   "execution_count": 123,
   "metadata": {},
   "outputs": [
    {
     "name": "stderr",
     "output_type": "stream",
     "text": [
      "C:\\Users\\Public\\anaconda3\\lib\\site-packages\\seaborn\\_decorators.py:36: FutureWarning: Pass the following variable as a keyword arg: x. From version 0.12, the only valid positional argument will be `data`, and passing other arguments without an explicit keyword will result in an error or misinterpretation.\n",
      "  warnings.warn(\n"
     ]
    },
    {
     "ename": "ValueError",
     "evalue": "If using all scalar values, you must pass an index",
     "output_type": "error",
     "traceback": [
      "\u001b[1;31m---------------------------------------------------------------------------\u001b[0m",
      "\u001b[1;31mValueError\u001b[0m                                Traceback (most recent call last)",
      "\u001b[1;32mC:\\Users\\RYANH~1\\AppData\\Local\\Temp/ipykernel_11064/1577825927.py\u001b[0m in \u001b[0;36m<module>\u001b[1;34m\u001b[0m\n\u001b[1;32m----> 1\u001b[1;33m \u001b[0msns\u001b[0m\u001b[1;33m.\u001b[0m\u001b[0mscatterplot\u001b[0m\u001b[1;33m(\u001b[0m\u001b[0mstats1\u001b[0m\u001b[1;33m)\u001b[0m \u001b[1;31m#Bug with trying to plot the two\u001b[0m\u001b[1;33m\u001b[0m\u001b[1;33m\u001b[0m\u001b[0m\n\u001b[0m\u001b[0;32m      2\u001b[0m \u001b[0msns\u001b[0m\u001b[1;33m.\u001b[0m\u001b[0mscatterplot\u001b[0m\u001b[1;33m(\u001b[0m\u001b[0mstats2\u001b[0m\u001b[1;33m)\u001b[0m \u001b[1;31m#Bug with trying to plot the two\u001b[0m\u001b[1;33m\u001b[0m\u001b[1;33m\u001b[0m\u001b[0m\n",
      "\u001b[1;32mC:\\Users\\Public\\anaconda3\\lib\\site-packages\\seaborn\\_decorators.py\u001b[0m in \u001b[0;36minner_f\u001b[1;34m(*args, **kwargs)\u001b[0m\n\u001b[0;32m     44\u001b[0m             )\n\u001b[0;32m     45\u001b[0m         \u001b[0mkwargs\u001b[0m\u001b[1;33m.\u001b[0m\u001b[0mupdate\u001b[0m\u001b[1;33m(\u001b[0m\u001b[1;33m{\u001b[0m\u001b[0mk\u001b[0m\u001b[1;33m:\u001b[0m \u001b[0marg\u001b[0m \u001b[1;32mfor\u001b[0m \u001b[0mk\u001b[0m\u001b[1;33m,\u001b[0m \u001b[0marg\u001b[0m \u001b[1;32min\u001b[0m \u001b[0mzip\u001b[0m\u001b[1;33m(\u001b[0m\u001b[0msig\u001b[0m\u001b[1;33m.\u001b[0m\u001b[0mparameters\u001b[0m\u001b[1;33m,\u001b[0m \u001b[0margs\u001b[0m\u001b[1;33m)\u001b[0m\u001b[1;33m}\u001b[0m\u001b[1;33m)\u001b[0m\u001b[1;33m\u001b[0m\u001b[1;33m\u001b[0m\u001b[0m\n\u001b[1;32m---> 46\u001b[1;33m         \u001b[1;32mreturn\u001b[0m \u001b[0mf\u001b[0m\u001b[1;33m(\u001b[0m\u001b[1;33m**\u001b[0m\u001b[0mkwargs\u001b[0m\u001b[1;33m)\u001b[0m\u001b[1;33m\u001b[0m\u001b[1;33m\u001b[0m\u001b[0m\n\u001b[0m\u001b[0;32m     47\u001b[0m     \u001b[1;32mreturn\u001b[0m \u001b[0minner_f\u001b[0m\u001b[1;33m\u001b[0m\u001b[1;33m\u001b[0m\u001b[0m\n\u001b[0;32m     48\u001b[0m \u001b[1;33m\u001b[0m\u001b[0m\n",
      "\u001b[1;32mC:\\Users\\Public\\anaconda3\\lib\\site-packages\\seaborn\\relational.py\u001b[0m in \u001b[0;36mscatterplot\u001b[1;34m(x, y, hue, style, size, data, palette, hue_order, hue_norm, sizes, size_order, size_norm, markers, style_order, x_bins, y_bins, units, estimator, ci, n_boot, alpha, x_jitter, y_jitter, legend, ax, **kwargs)\u001b[0m\n\u001b[0;32m    806\u001b[0m \u001b[1;33m\u001b[0m\u001b[0m\n\u001b[0;32m    807\u001b[0m     \u001b[0mvariables\u001b[0m \u001b[1;33m=\u001b[0m \u001b[0m_ScatterPlotter\u001b[0m\u001b[1;33m.\u001b[0m\u001b[0mget_semantics\u001b[0m\u001b[1;33m(\u001b[0m\u001b[0mlocals\u001b[0m\u001b[1;33m(\u001b[0m\u001b[1;33m)\u001b[0m\u001b[1;33m)\u001b[0m\u001b[1;33m\u001b[0m\u001b[1;33m\u001b[0m\u001b[0m\n\u001b[1;32m--> 808\u001b[1;33m     p = _ScatterPlotter(\n\u001b[0m\u001b[0;32m    809\u001b[0m         \u001b[0mdata\u001b[0m\u001b[1;33m=\u001b[0m\u001b[0mdata\u001b[0m\u001b[1;33m,\u001b[0m \u001b[0mvariables\u001b[0m\u001b[1;33m=\u001b[0m\u001b[0mvariables\u001b[0m\u001b[1;33m,\u001b[0m\u001b[1;33m\u001b[0m\u001b[1;33m\u001b[0m\u001b[0m\n\u001b[0;32m    810\u001b[0m         \u001b[0mx_bins\u001b[0m\u001b[1;33m=\u001b[0m\u001b[0mx_bins\u001b[0m\u001b[1;33m,\u001b[0m \u001b[0my_bins\u001b[0m\u001b[1;33m=\u001b[0m\u001b[0my_bins\u001b[0m\u001b[1;33m,\u001b[0m\u001b[1;33m\u001b[0m\u001b[1;33m\u001b[0m\u001b[0m\n",
      "\u001b[1;32mC:\\Users\\Public\\anaconda3\\lib\\site-packages\\seaborn\\relational.py\u001b[0m in \u001b[0;36m__init__\u001b[1;34m(self, data, variables, x_bins, y_bins, estimator, ci, n_boot, alpha, x_jitter, y_jitter, legend)\u001b[0m\n\u001b[0;32m    585\u001b[0m         )\n\u001b[0;32m    586\u001b[0m \u001b[1;33m\u001b[0m\u001b[0m\n\u001b[1;32m--> 587\u001b[1;33m         \u001b[0msuper\u001b[0m\u001b[1;33m(\u001b[0m\u001b[1;33m)\u001b[0m\u001b[1;33m.\u001b[0m\u001b[0m__init__\u001b[0m\u001b[1;33m(\u001b[0m\u001b[0mdata\u001b[0m\u001b[1;33m=\u001b[0m\u001b[0mdata\u001b[0m\u001b[1;33m,\u001b[0m \u001b[0mvariables\u001b[0m\u001b[1;33m=\u001b[0m\u001b[0mvariables\u001b[0m\u001b[1;33m)\u001b[0m\u001b[1;33m\u001b[0m\u001b[1;33m\u001b[0m\u001b[0m\n\u001b[0m\u001b[0;32m    588\u001b[0m \u001b[1;33m\u001b[0m\u001b[0m\n\u001b[0;32m    589\u001b[0m         \u001b[0mself\u001b[0m\u001b[1;33m.\u001b[0m\u001b[0malpha\u001b[0m \u001b[1;33m=\u001b[0m \u001b[0malpha\u001b[0m\u001b[1;33m\u001b[0m\u001b[1;33m\u001b[0m\u001b[0m\n",
      "\u001b[1;32mC:\\Users\\Public\\anaconda3\\lib\\site-packages\\seaborn\\_core.py\u001b[0m in \u001b[0;36m__init__\u001b[1;34m(self, data, variables)\u001b[0m\n\u001b[0;32m    603\u001b[0m     \u001b[1;32mdef\u001b[0m \u001b[0m__init__\u001b[0m\u001b[1;33m(\u001b[0m\u001b[0mself\u001b[0m\u001b[1;33m,\u001b[0m \u001b[0mdata\u001b[0m\u001b[1;33m=\u001b[0m\u001b[1;32mNone\u001b[0m\u001b[1;33m,\u001b[0m \u001b[0mvariables\u001b[0m\u001b[1;33m=\u001b[0m\u001b[1;33m{\u001b[0m\u001b[1;33m}\u001b[0m\u001b[1;33m)\u001b[0m\u001b[1;33m:\u001b[0m\u001b[1;33m\u001b[0m\u001b[1;33m\u001b[0m\u001b[0m\n\u001b[0;32m    604\u001b[0m \u001b[1;33m\u001b[0m\u001b[0m\n\u001b[1;32m--> 605\u001b[1;33m         \u001b[0mself\u001b[0m\u001b[1;33m.\u001b[0m\u001b[0massign_variables\u001b[0m\u001b[1;33m(\u001b[0m\u001b[0mdata\u001b[0m\u001b[1;33m,\u001b[0m \u001b[0mvariables\u001b[0m\u001b[1;33m)\u001b[0m\u001b[1;33m\u001b[0m\u001b[1;33m\u001b[0m\u001b[0m\n\u001b[0m\u001b[0;32m    606\u001b[0m \u001b[1;33m\u001b[0m\u001b[0m\n\u001b[0;32m    607\u001b[0m         \u001b[1;32mfor\u001b[0m \u001b[0mvar\u001b[0m\u001b[1;33m,\u001b[0m \u001b[0mcls\u001b[0m \u001b[1;32min\u001b[0m \u001b[0mself\u001b[0m\u001b[1;33m.\u001b[0m\u001b[0m_semantic_mappings\u001b[0m\u001b[1;33m.\u001b[0m\u001b[0mitems\u001b[0m\u001b[1;33m(\u001b[0m\u001b[1;33m)\u001b[0m\u001b[1;33m:\u001b[0m\u001b[1;33m\u001b[0m\u001b[1;33m\u001b[0m\u001b[0m\n",
      "\u001b[1;32mC:\\Users\\Public\\anaconda3\\lib\\site-packages\\seaborn\\_core.py\u001b[0m in \u001b[0;36massign_variables\u001b[1;34m(self, data, variables)\u001b[0m\n\u001b[0;32m    666\u001b[0m         \u001b[1;32melse\u001b[0m\u001b[1;33m:\u001b[0m\u001b[1;33m\u001b[0m\u001b[1;33m\u001b[0m\u001b[0m\n\u001b[0;32m    667\u001b[0m             \u001b[0mself\u001b[0m\u001b[1;33m.\u001b[0m\u001b[0minput_format\u001b[0m \u001b[1;33m=\u001b[0m \u001b[1;34m\"long\"\u001b[0m\u001b[1;33m\u001b[0m\u001b[1;33m\u001b[0m\u001b[0m\n\u001b[1;32m--> 668\u001b[1;33m             plot_data, variables = self._assign_variables_longform(\n\u001b[0m\u001b[0;32m    669\u001b[0m                 \u001b[0mdata\u001b[0m\u001b[1;33m,\u001b[0m \u001b[1;33m**\u001b[0m\u001b[0mvariables\u001b[0m\u001b[1;33m,\u001b[0m\u001b[1;33m\u001b[0m\u001b[1;33m\u001b[0m\u001b[0m\n\u001b[0;32m    670\u001b[0m             )\n",
      "\u001b[1;32mC:\\Users\\Public\\anaconda3\\lib\\site-packages\\seaborn\\_core.py\u001b[0m in \u001b[0;36m_assign_variables_longform\u001b[1;34m(self, data, **kwargs)\u001b[0m\n\u001b[0;32m    925\u001b[0m         \u001b[1;31m# Construct a tidy plot DataFrame. This will convert a number of\u001b[0m\u001b[1;33m\u001b[0m\u001b[1;33m\u001b[0m\u001b[0m\n\u001b[0;32m    926\u001b[0m         \u001b[1;31m# types automatically, aligning on index in case of pandas objects\u001b[0m\u001b[1;33m\u001b[0m\u001b[1;33m\u001b[0m\u001b[0m\n\u001b[1;32m--> 927\u001b[1;33m         \u001b[0mplot_data\u001b[0m \u001b[1;33m=\u001b[0m \u001b[0mpd\u001b[0m\u001b[1;33m.\u001b[0m\u001b[0mDataFrame\u001b[0m\u001b[1;33m(\u001b[0m\u001b[0mplot_data\u001b[0m\u001b[1;33m)\u001b[0m\u001b[1;33m\u001b[0m\u001b[1;33m\u001b[0m\u001b[0m\n\u001b[0m\u001b[0;32m    928\u001b[0m \u001b[1;33m\u001b[0m\u001b[0m\n\u001b[0;32m    929\u001b[0m         \u001b[1;31m# Reduce the variables dictionary to fields with valid data\u001b[0m\u001b[1;33m\u001b[0m\u001b[1;33m\u001b[0m\u001b[0m\n",
      "\u001b[1;32mC:\\Users\\Public\\anaconda3\\lib\\site-packages\\pandas\\core\\frame.py\u001b[0m in \u001b[0;36m__init__\u001b[1;34m(self, data, index, columns, dtype, copy)\u001b[0m\n\u001b[0;32m    612\u001b[0m         \u001b[1;32melif\u001b[0m \u001b[0misinstance\u001b[0m\u001b[1;33m(\u001b[0m\u001b[0mdata\u001b[0m\u001b[1;33m,\u001b[0m \u001b[0mdict\u001b[0m\u001b[1;33m)\u001b[0m\u001b[1;33m:\u001b[0m\u001b[1;33m\u001b[0m\u001b[1;33m\u001b[0m\u001b[0m\n\u001b[0;32m    613\u001b[0m             \u001b[1;31m# GH#38939 de facto copy defaults to False only in non-dict cases\u001b[0m\u001b[1;33m\u001b[0m\u001b[1;33m\u001b[0m\u001b[0m\n\u001b[1;32m--> 614\u001b[1;33m             \u001b[0mmgr\u001b[0m \u001b[1;33m=\u001b[0m \u001b[0mdict_to_mgr\u001b[0m\u001b[1;33m(\u001b[0m\u001b[0mdata\u001b[0m\u001b[1;33m,\u001b[0m \u001b[0mindex\u001b[0m\u001b[1;33m,\u001b[0m \u001b[0mcolumns\u001b[0m\u001b[1;33m,\u001b[0m \u001b[0mdtype\u001b[0m\u001b[1;33m=\u001b[0m\u001b[0mdtype\u001b[0m\u001b[1;33m,\u001b[0m \u001b[0mcopy\u001b[0m\u001b[1;33m=\u001b[0m\u001b[0mcopy\u001b[0m\u001b[1;33m,\u001b[0m \u001b[0mtyp\u001b[0m\u001b[1;33m=\u001b[0m\u001b[0mmanager\u001b[0m\u001b[1;33m)\u001b[0m\u001b[1;33m\u001b[0m\u001b[1;33m\u001b[0m\u001b[0m\n\u001b[0m\u001b[0;32m    615\u001b[0m         \u001b[1;32melif\u001b[0m \u001b[0misinstance\u001b[0m\u001b[1;33m(\u001b[0m\u001b[0mdata\u001b[0m\u001b[1;33m,\u001b[0m \u001b[0mma\u001b[0m\u001b[1;33m.\u001b[0m\u001b[0mMaskedArray\u001b[0m\u001b[1;33m)\u001b[0m\u001b[1;33m:\u001b[0m\u001b[1;33m\u001b[0m\u001b[1;33m\u001b[0m\u001b[0m\n\u001b[0;32m    616\u001b[0m             \u001b[1;32mimport\u001b[0m \u001b[0mnumpy\u001b[0m\u001b[1;33m.\u001b[0m\u001b[0mma\u001b[0m\u001b[1;33m.\u001b[0m\u001b[0mmrecords\u001b[0m \u001b[1;32mas\u001b[0m \u001b[0mmrecords\u001b[0m\u001b[1;33m\u001b[0m\u001b[1;33m\u001b[0m\u001b[0m\n",
      "\u001b[1;32mC:\\Users\\Public\\anaconda3\\lib\\site-packages\\pandas\\core\\internals\\construction.py\u001b[0m in \u001b[0;36mdict_to_mgr\u001b[1;34m(data, index, columns, dtype, typ, copy)\u001b[0m\n\u001b[0;32m    462\u001b[0m         \u001b[1;31m# TODO: can we get rid of the dt64tz special case above?\u001b[0m\u001b[1;33m\u001b[0m\u001b[1;33m\u001b[0m\u001b[0m\n\u001b[0;32m    463\u001b[0m \u001b[1;33m\u001b[0m\u001b[0m\n\u001b[1;32m--> 464\u001b[1;33m     return arrays_to_mgr(\n\u001b[0m\u001b[0;32m    465\u001b[0m         \u001b[0marrays\u001b[0m\u001b[1;33m,\u001b[0m \u001b[0mdata_names\u001b[0m\u001b[1;33m,\u001b[0m \u001b[0mindex\u001b[0m\u001b[1;33m,\u001b[0m \u001b[0mcolumns\u001b[0m\u001b[1;33m,\u001b[0m \u001b[0mdtype\u001b[0m\u001b[1;33m=\u001b[0m\u001b[0mdtype\u001b[0m\u001b[1;33m,\u001b[0m \u001b[0mtyp\u001b[0m\u001b[1;33m=\u001b[0m\u001b[0mtyp\u001b[0m\u001b[1;33m,\u001b[0m \u001b[0mconsolidate\u001b[0m\u001b[1;33m=\u001b[0m\u001b[0mcopy\u001b[0m\u001b[1;33m\u001b[0m\u001b[1;33m\u001b[0m\u001b[0m\n\u001b[0;32m    466\u001b[0m     )\n",
      "\u001b[1;32mC:\\Users\\Public\\anaconda3\\lib\\site-packages\\pandas\\core\\internals\\construction.py\u001b[0m in \u001b[0;36marrays_to_mgr\u001b[1;34m(arrays, arr_names, index, columns, dtype, verify_integrity, typ, consolidate)\u001b[0m\n\u001b[0;32m    117\u001b[0m         \u001b[1;31m# figure out the index, if necessary\u001b[0m\u001b[1;33m\u001b[0m\u001b[1;33m\u001b[0m\u001b[0m\n\u001b[0;32m    118\u001b[0m         \u001b[1;32mif\u001b[0m \u001b[0mindex\u001b[0m \u001b[1;32mis\u001b[0m \u001b[1;32mNone\u001b[0m\u001b[1;33m:\u001b[0m\u001b[1;33m\u001b[0m\u001b[1;33m\u001b[0m\u001b[0m\n\u001b[1;32m--> 119\u001b[1;33m             \u001b[0mindex\u001b[0m \u001b[1;33m=\u001b[0m \u001b[0m_extract_index\u001b[0m\u001b[1;33m(\u001b[0m\u001b[0marrays\u001b[0m\u001b[1;33m)\u001b[0m\u001b[1;33m\u001b[0m\u001b[1;33m\u001b[0m\u001b[0m\n\u001b[0m\u001b[0;32m    120\u001b[0m         \u001b[1;32melse\u001b[0m\u001b[1;33m:\u001b[0m\u001b[1;33m\u001b[0m\u001b[1;33m\u001b[0m\u001b[0m\n\u001b[0;32m    121\u001b[0m             \u001b[0mindex\u001b[0m \u001b[1;33m=\u001b[0m \u001b[0mensure_index\u001b[0m\u001b[1;33m(\u001b[0m\u001b[0mindex\u001b[0m\u001b[1;33m)\u001b[0m\u001b[1;33m\u001b[0m\u001b[1;33m\u001b[0m\u001b[0m\n",
      "\u001b[1;32mC:\\Users\\Public\\anaconda3\\lib\\site-packages\\pandas\\core\\internals\\construction.py\u001b[0m in \u001b[0;36m_extract_index\u001b[1;34m(data)\u001b[0m\n\u001b[0;32m    623\u001b[0m \u001b[1;33m\u001b[0m\u001b[0m\n\u001b[0;32m    624\u001b[0m         \u001b[1;32mif\u001b[0m \u001b[1;32mnot\u001b[0m \u001b[0mindexes\u001b[0m \u001b[1;32mand\u001b[0m \u001b[1;32mnot\u001b[0m \u001b[0mraw_lengths\u001b[0m\u001b[1;33m:\u001b[0m\u001b[1;33m\u001b[0m\u001b[1;33m\u001b[0m\u001b[0m\n\u001b[1;32m--> 625\u001b[1;33m             \u001b[1;32mraise\u001b[0m \u001b[0mValueError\u001b[0m\u001b[1;33m(\u001b[0m\u001b[1;34m\"If using all scalar values, you must pass an index\"\u001b[0m\u001b[1;33m)\u001b[0m\u001b[1;33m\u001b[0m\u001b[1;33m\u001b[0m\u001b[0m\n\u001b[0m\u001b[0;32m    626\u001b[0m \u001b[1;33m\u001b[0m\u001b[0m\n\u001b[0;32m    627\u001b[0m         \u001b[1;32mif\u001b[0m \u001b[0mhave_series\u001b[0m\u001b[1;33m:\u001b[0m\u001b[1;33m\u001b[0m\u001b[1;33m\u001b[0m\u001b[0m\n",
      "\u001b[1;31mValueError\u001b[0m: If using all scalar values, you must pass an index"
     ]
    }
   ],
   "source": [
    "sns.scatterplot(stats1) #Bug with trying to plot the two\n",
    "sns.scatterplot(stats2) #Bug with trying to plot the two"
   ]
  },
  {
   "attachments": {},
   "cell_type": "markdown",
   "metadata": {},
   "source": [
    "Written Answer: The two bootstrap estimates are positively related which means that the relationship is a positive correlation between the regressors. (Based on the earlier data since plotting had issues)"
   ]
  },
  {
   "cell_type": "code",
   "execution_count": null,
   "metadata": {},
   "outputs": [],
   "source": []
  }
 ],
 "metadata": {
  "kernelspec": {
   "display_name": "Python 3 (ipykernel)",
   "language": "python",
   "name": "python3"
  },
  "language_info": {
   "codemirror_mode": {
    "name": "ipython",
    "version": 3
   },
   "file_extension": ".py",
   "mimetype": "text/x-python",
   "name": "python",
   "nbconvert_exporter": "python",
   "pygments_lexer": "ipython3",
   "version": "3.9.7"
  }
 },
 "nbformat": 4,
 "nbformat_minor": 1
}

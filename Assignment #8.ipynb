{
 "cells": [
  {
   "attachments": {},
   "cell_type": "markdown",
   "metadata": {},
   "source": [
    "# Assignment 8\n",
    "## Learning Outcomes:\n",
    "This assignment introduces the use of discrete variables in regression analysis. Task 1 will use discrete variables as explanatory variables, in Task 2 we will use discrete variables as response variables and introduce logistic regression. \n",
    "\n",
    "## Data set \n",
    "Throught the assignment you will use the full possum.csv data set.  \n",
    "The data set includes measures from 104 possums that were caught in New Zealand in a field study. \n",
    "Variables: \n",
    "-\tsite: The site number where the possum was trapped.\n",
    "-\tpop: Population, either Vic (Victoria) or other (New South Wales or Queensland).\n",
    "-\tsex: Gender, either m (male) or f (female).\n",
    "-\tage: Age in years\n",
    "-\theadL: Head length, in mm.\n",
    "-\tskullW: Skull width, in mm.\n",
    "-\ttotalL: Total length, in cm.\n",
    "-\ttailL: Tail length, in cm."
   ]
  },
  {
   "cell_type": "code",
   "execution_count": 1,
   "metadata": {},
   "outputs": [],
   "source": [
    "import matplotlib\n",
    "matplotlib.use('TkAgg')\n",
    "import matplotlib.pyplot as plt \n",
    "%matplotlib inline\n",
    "import scipy.optimize as so\n",
    "import pandas as pd \n",
    "import numpy as np\n",
    "import statsmodels.api as sm\n",
    "import statsmodels.formula.api as smf\n",
    "import seaborn as sns"
   ]
  },
  {
   "cell_type": "code",
   "execution_count": 3,
   "metadata": {},
   "outputs": [
    {
     "data": {
      "text/html": [
       "<div>\n",
       "<style scoped>\n",
       "    .dataframe tbody tr th:only-of-type {\n",
       "        vertical-align: middle;\n",
       "    }\n",
       "\n",
       "    .dataframe tbody tr th {\n",
       "        vertical-align: top;\n",
       "    }\n",
       "\n",
       "    .dataframe thead th {\n",
       "        text-align: right;\n",
       "    }\n",
       "</style>\n",
       "<table border=\"1\" class=\"dataframe\">\n",
       "  <thead>\n",
       "    <tr style=\"text-align: right;\">\n",
       "      <th></th>\n",
       "      <th>site</th>\n",
       "      <th>pop</th>\n",
       "      <th>sex</th>\n",
       "      <th>age</th>\n",
       "      <th>headL</th>\n",
       "      <th>skullW</th>\n",
       "      <th>totalL</th>\n",
       "      <th>tailL</th>\n",
       "    </tr>\n",
       "  </thead>\n",
       "  <tbody>\n",
       "    <tr>\n",
       "      <th>0</th>\n",
       "      <td>1</td>\n",
       "      <td>Vic</td>\n",
       "      <td>m</td>\n",
       "      <td>8</td>\n",
       "      <td>94.1</td>\n",
       "      <td>60.4</td>\n",
       "      <td>89.0</td>\n",
       "      <td>36.0</td>\n",
       "    </tr>\n",
       "    <tr>\n",
       "      <th>1</th>\n",
       "      <td>1</td>\n",
       "      <td>Vic</td>\n",
       "      <td>f</td>\n",
       "      <td>6</td>\n",
       "      <td>92.5</td>\n",
       "      <td>57.6</td>\n",
       "      <td>91.5</td>\n",
       "      <td>36.5</td>\n",
       "    </tr>\n",
       "    <tr>\n",
       "      <th>2</th>\n",
       "      <td>1</td>\n",
       "      <td>Vic</td>\n",
       "      <td>f</td>\n",
       "      <td>6</td>\n",
       "      <td>94.0</td>\n",
       "      <td>60.0</td>\n",
       "      <td>95.5</td>\n",
       "      <td>39.0</td>\n",
       "    </tr>\n",
       "    <tr>\n",
       "      <th>3</th>\n",
       "      <td>1</td>\n",
       "      <td>Vic</td>\n",
       "      <td>f</td>\n",
       "      <td>6</td>\n",
       "      <td>93.2</td>\n",
       "      <td>57.1</td>\n",
       "      <td>92.0</td>\n",
       "      <td>38.0</td>\n",
       "    </tr>\n",
       "    <tr>\n",
       "      <th>4</th>\n",
       "      <td>1</td>\n",
       "      <td>Vic</td>\n",
       "      <td>f</td>\n",
       "      <td>2</td>\n",
       "      <td>91.5</td>\n",
       "      <td>56.3</td>\n",
       "      <td>85.5</td>\n",
       "      <td>36.0</td>\n",
       "    </tr>\n",
       "    <tr>\n",
       "      <th>...</th>\n",
       "      <td>...</td>\n",
       "      <td>...</td>\n",
       "      <td>...</td>\n",
       "      <td>...</td>\n",
       "      <td>...</td>\n",
       "      <td>...</td>\n",
       "      <td>...</td>\n",
       "      <td>...</td>\n",
       "    </tr>\n",
       "    <tr>\n",
       "      <th>99</th>\n",
       "      <td>7</td>\n",
       "      <td>other</td>\n",
       "      <td>m</td>\n",
       "      <td>1</td>\n",
       "      <td>89.5</td>\n",
       "      <td>56.0</td>\n",
       "      <td>81.5</td>\n",
       "      <td>36.5</td>\n",
       "    </tr>\n",
       "    <tr>\n",
       "      <th>100</th>\n",
       "      <td>7</td>\n",
       "      <td>other</td>\n",
       "      <td>m</td>\n",
       "      <td>1</td>\n",
       "      <td>88.6</td>\n",
       "      <td>54.7</td>\n",
       "      <td>82.5</td>\n",
       "      <td>39.0</td>\n",
       "    </tr>\n",
       "    <tr>\n",
       "      <th>101</th>\n",
       "      <td>7</td>\n",
       "      <td>other</td>\n",
       "      <td>f</td>\n",
       "      <td>6</td>\n",
       "      <td>92.4</td>\n",
       "      <td>55.0</td>\n",
       "      <td>89.0</td>\n",
       "      <td>38.0</td>\n",
       "    </tr>\n",
       "    <tr>\n",
       "      <th>102</th>\n",
       "      <td>7</td>\n",
       "      <td>other</td>\n",
       "      <td>m</td>\n",
       "      <td>4</td>\n",
       "      <td>91.5</td>\n",
       "      <td>55.2</td>\n",
       "      <td>82.5</td>\n",
       "      <td>36.5</td>\n",
       "    </tr>\n",
       "    <tr>\n",
       "      <th>103</th>\n",
       "      <td>7</td>\n",
       "      <td>other</td>\n",
       "      <td>f</td>\n",
       "      <td>3</td>\n",
       "      <td>93.6</td>\n",
       "      <td>59.9</td>\n",
       "      <td>89.0</td>\n",
       "      <td>40.0</td>\n",
       "    </tr>\n",
       "  </tbody>\n",
       "</table>\n",
       "<p>104 rows × 8 columns</p>\n",
       "</div>"
      ],
      "text/plain": [
       "     site    pop sex  age  headL  skullW  totalL  tailL\n",
       "0       1    Vic   m    8   94.1    60.4    89.0   36.0\n",
       "1       1    Vic   f    6   92.5    57.6    91.5   36.5\n",
       "2       1    Vic   f    6   94.0    60.0    95.5   39.0\n",
       "3       1    Vic   f    6   93.2    57.1    92.0   38.0\n",
       "4       1    Vic   f    2   91.5    56.3    85.5   36.0\n",
       "..    ...    ...  ..  ...    ...     ...     ...    ...\n",
       "99      7  other   m    1   89.5    56.0    81.5   36.5\n",
       "100     7  other   m    1   88.6    54.7    82.5   39.0\n",
       "101     7  other   f    6   92.4    55.0    89.0   38.0\n",
       "102     7  other   m    4   91.5    55.2    82.5   36.5\n",
       "103     7  other   f    3   93.6    59.9    89.0   40.0\n",
       "\n",
       "[104 rows x 8 columns]"
      ]
     },
     "execution_count": 3,
     "metadata": {},
     "output_type": "execute_result"
    }
   ],
   "source": [
    "df = pd.read_csv('possum.csv')\n",
    "df"
   ]
  },
  {
   "cell_type": "code",
   "execution_count": 90,
   "metadata": {},
   "outputs": [],
   "source": [
    "#Required previous functions\n",
    "def multRegPredict(b,D,xname):\n",
    "    yp = np.ones(len(D.index)) * b[0]\n",
    "    \n",
    "    for i in range(len(xname)):          \n",
    "        yp = yp + D[xname[i]] * b[i + 1]\n",
    "    return yp \n",
    "\n",
    "def multRegLossRSS(b, D, y, xname):\n",
    "    predY = multRegPredict(b, D, xname)\n",
    "    res = y-predY\n",
    "    rss = sum(res ** 2)\n",
    "    grad = np.zeros(len(b))\n",
    "    grad[0] = -2 * np.sum(res)\n",
    "    \n",
    "    for i in range(len(xname)):\n",
    "        grad[i + 1] = -2 * np.sum(D[xname[i]] * res)\n",
    "    return (rss,grad)\n",
    "\n",
    "def multRegFit(D, y, xname):\n",
    "    N = len(xname)\n",
    "    b0 = np.zeros((N + 1, 1))\n",
    "    RES = so.minimize(multRegLossRSS, b0, args=(D, y, xname), jac=True)\n",
    "    \n",
    "    if (not(RES.success)):\n",
    "        print('unsuccessful fit')\n",
    "        print(RES)\n",
    "    \n",
    "    b = RES.x\n",
    "    res = y - np.mean(y)\n",
    "    TSS = sum(res ** 2)\n",
    "    RSS, deriv = multRegLossRSS(b, D, y, xname)\n",
    "    R2 = 1 - RSS / TSS \n",
    "    return (R2, b)\n",
    "\n",
    "def leaveOneOutCV(x, y, fitfcn = multRegFit, args = (), predictfcn = multRegPredict):\n",
    "    N = len(x) #Number of observations \n",
    "    yp = np.zeros(N)\n",
    "    ind = np.arange(N)\n",
    "    \n",
    "    for i in range(N):\n",
    "        r, b, ax = fitfcn(x[ind != i], y[ind != i], args, fig=False)\n",
    "        yp[i] = predictfcn(b, x[i])\n",
    "    \n",
    "    TSS = sum((y - y.mean()) ** 2)\n",
    "    RSScv = sum((y - yp) ** 2)\n",
    "    R2cv = 1 - RSScv / TSS\n",
    "\n",
    "    r, b, ax = fitfcn(x, y, args)\n",
    "    yf = predictfcn(b, x)\n",
    "    RSS = sum((y - yf) ** 2)\n",
    "    R2 = 1 - RSS / TSS\n",
    "    return R2cv, R2\n",
    "\n",
    "def bootstrapReg(D, y, args, fitfcn, numIter=1000):\n",
    "    r2, b = fitfcn(D, y, args)\n",
    "    numParams = len(b)\n",
    "    N = len(D.index)\n",
    "    ind  = np.arange(N)\n",
    "    stats = np.zeros((numIter, numParams))\n",
    "    \n",
    "    for i in range(numIter):\n",
    "        sample = np.random.choice(ind, N)\n",
    "        r2, stats[i, :] = fitfcn(D.iloc[sample], y[sample], args)\n",
    "    return stats\n",
    "\n",
    "def confidenceInt(data, perc):\n",
    "    Int = (np.percentile(data, (100 - perc) / 2), np.percentile(data, 100 - (100 - perc) / 2))\n",
    "    return Int"
   ]
  },
  {
   "attachments": {},
   "cell_type": "markdown",
   "metadata": {},
   "source": [
    "## Task 1: Discrete predictor variables\n",
    "\n",
    "### Question 1 (5 pt)\n",
    "Load the data set possum.csv. \n",
    "Generate 3 new columns in the data frame: \n",
    "- bodyL: The length of the main body (totalL - tailL) \n",
    "- popI:  Population identifier, 0: if pop is 'other', 1: if pop is 'Vic'\n",
    "- sexI:  Sex indentifier, 0: if sex is 'm', 1: if sex is 'f'\n",
    "Use your function multRegression to run a regression analysis of bodyL (response variable) against sexI (explanatory variable). Make a plot (with labeled axes) that show sex on the x-axis and body length on the y axis. Add the prediction line from the regression. "
   ]
  },
  {
   "cell_type": "code",
   "execution_count": 22,
   "metadata": {},
   "outputs": [
    {
     "name": "stdout",
     "output_type": "stream",
     "text": [
      "R2: 0.02895861728871396, b: [49.56885246  1.23347312]\n"
     ]
    },
    {
     "data": {
      "text/plain": [
       "<AxesSubplot:xlabel='sexl', ylabel='bodyL'>"
      ]
     },
     "execution_count": 22,
     "metadata": {},
     "output_type": "execute_result"
    },
    {
     "data": {
      "image/png": "[encoded data removed]",
      "text/plain": [
       "<Figure size 432x288 with 1 Axes>"
      ]
     },
     "metadata": {
      "needs_background": "light"
     },
     "output_type": "display_data"
    }
   ],
   "source": [
    "df['bodyL'] = df['totalL'] - df['tailL']\n",
    "df['popl'] = np.double(df['pop'] == 'Vic')\n",
    "df['sexl'] = np.double(df['sex'] == 'f')\n",
    "df\n",
    "\n",
    "#multiRegression part\n",
    "R2, b = multRegFit(df, df['bodyL'].values, ['sexl'])\n",
    "print(f'R2: {R2}, b: {b}')\n",
    "\n",
    "yp = multRegPredict(b, df, ['sexl'])\n",
    "sns.scatterplot(x = 'sexl', y = 'bodyL', data = df)\n",
    "sns.lineplot(x = 'sexl', y = yp, data = df)"
   ]
  },
  {
   "attachments": {},
   "cell_type": "markdown",
   "metadata": {},
   "source": [
    "Figure 1: Scatter plot of the variables 'sexl' and 'bodyL' with the prediction line added"
   ]
  },
  {
   "attachments": {},
   "cell_type": "markdown",
   "metadata": {},
   "source": [
    "### Question 2 (10pt)\n",
    "Use boostrap to estimate a 95% confidence interval on the regression parameter of sex as a explanatory variable for body length. Report the interval. Can you reject the null-hypothesis that body length in possums does not differ between the sexes?  "
   ]
  },
  {
   "cell_type": "code",
   "execution_count": 43,
   "metadata": {},
   "outputs": [
    {
     "name": "stdout",
     "output_type": "stream",
     "text": [
      "The interval is: (-0.1749948524365236, 2.355183987488651)\n"
     ]
    }
   ],
   "source": [
    "bStrap = bootstrapReg(df, df['bodyL'], ['sexl'], fitfcn = multRegFit, numIter = 100)\n",
    "cInt = confidenceInt(bStrap[:, 1], 95)\n",
    "print(f'The interval is: {cInt}')"
   ]
  },
  {
   "attachments": {},
   "cell_type": "markdown",
   "metadata": {},
   "source": [
    "Written Answer: In this case we cannot reject the null hypothesis that body length in possums does not differ between the sexes because the confidence interval contains 0."
   ]
  },
  {
   "attachments": {},
   "cell_type": "markdown",
   "metadata": {},
   "source": [
    "### Question 3 (10pt)\n",
    "Make a scatter plot of age (x-axis) against body length (y-axis), with male and female possums shown in different colors. \n",
    "You can do this by plotting two scatter plots sequentially - each time selecting either male or female possums. The second one will simply add points in a different color to the first plot.  \n",
    "\n",
    "Estimate a multiple regression model that explains bodyL as a function of age and sex. What is the R2-value? \n",
    "\n",
    "Get the predicted values from the regression, and plot the predicted values in the same graph seperately for male and female possums. "
   ]
  },
  {
   "cell_type": "code",
   "execution_count": 40,
   "metadata": {},
   "outputs": [
    {
     "name": "stdout",
     "output_type": "stream",
     "text": [
      "R2: 0.08543037213506366\n"
     ]
    },
    {
     "data": {
      "image/png": "[encoded data removed]",
      "text/plain": [
       "<Figure size 432x288 with 1 Axes>"
      ]
     },
     "metadata": {
      "needs_background": "light"
     },
     "output_type": "display_data"
    }
   ],
   "source": [
    "sns.scatterplot(x = 'age', y = 'bodyL', hue = 'sex', data = df)\n",
    "R2, b = multRegFit(df, df['bodyL'].values, ['age', 'sexl'])\n",
    "yp = multRegPredict(b, df, ['age', 'sexl'])\n",
    "sns.scatterplot(x = 'age', y = yp, data = df, color = 'r')\n",
    "print(f'R2: {R2}')"
   ]
  },
  {
   "attachments": {},
   "cell_type": "markdown",
   "metadata": {},
   "source": [
    "Figure 2: Scatter plot of 'age' and 'bodyL' between both male and female possums"
   ]
  },
  {
   "attachments": {},
   "cell_type": "markdown",
   "metadata": {},
   "source": [
    "### Question 4 (7pt)\n",
    "Run a bootstrap analysis on the bodyL ~ age + sexI regression model. Report the 95% confidence interval for the regression parameters of sex and age on body length. Is the effect of age onto body length significant in the context of the model? How about the relationship between sex and body length?  \n"
   ]
  },
  {
   "cell_type": "code",
   "execution_count": 44,
   "metadata": {},
   "outputs": [
    {
     "name": "stdout",
     "output_type": "stream",
     "text": [
      "The age interval is: (0.14914859666626876, 0.9442370725610868) and the sexl is: (-0.1666270457125727, 2.0285510821939625)\n"
     ]
    }
   ],
   "source": [
    "bStrap = bootstrapReg(df, df['bodyL'], ['age', 'sexl'], fitfcn = multRegFit, numIter = 100)\n",
    "cInt1 = confidenceInt(bStrap[:, 1], 95)\n",
    "cInt2 = confidenceInt(bStrap[:, 2], 95)\n",
    "print(f'The age interval is: {cInt1} and the sexl is: {cInt2}')"
   ]
  },
  {
   "attachments": {},
   "cell_type": "markdown",
   "metadata": {},
   "source": [
    "Written Answer: The effect of age on body length is not significant since the interval doesn't contain 0, and the relationship between sex and body length is significant since the interval does contain 0."
   ]
  },
  {
   "attachments": {},
   "cell_type": "markdown",
   "metadata": {},
   "source": [
    "### Question 5 (10pt)\n",
    "Estimate a multiple regression model that explains bodyL as a function of age and population (Vic vs. other). What is the R2-value? Make a scatter plot like for Question 3, but this time splitting the data for the two populations, rather than based on sex. Which of the two population (Vic or other) is larger? How do you interpret the value of the regression coefficient for popI? "
   ]
  },
  {
   "cell_type": "code",
   "execution_count": 47,
   "metadata": {},
   "outputs": [
    {
     "name": "stdout",
     "output_type": "stream",
     "text": [
      "R2: 0.08543037213506366\n"
     ]
    },
    {
     "data": {
      "image/png": "[encoded data removed]",
      "text/plain": [
       "<Figure size 432x288 with 1 Axes>"
      ]
     },
     "metadata": {
      "needs_background": "light"
     },
     "output_type": "display_data"
    }
   ],
   "source": [
    "R2, b = multRegFit(df, df['bodyL'].values, ['age', 'sexl'])\n",
    "sns.scatterplot(x = 'age', y = 'bodyL', hue = 'pop', data = df)\n",
    "yp = multRegPredict(b, df, ['age', 'popl'])\n",
    "sns.scatterplot(x = 'age', y = yp, data = df, color = 'r')\n",
    "print(f'R2: {R2}')"
   ]
  },
  {
   "attachments": {},
   "cell_type": "markdown",
   "metadata": {},
   "source": [
    "Figure 3: Scatter plot of 'age' and 'bodyL' with the separation of the data by 'pop'\n",
    "\n",
    "Written Answer: The larger population is definitely the 'other' population since it takes up a majority of the scatter plot.  The regression coefficient for 'popl' of ~0.085 means that it doesn't explain the models variability very well."
   ]
  },
  {
   "attachments": {},
   "cell_type": "markdown",
   "metadata": {},
   "source": [
    "### Question 6 (8pt)\n",
    "Run a bootstrap analysis on the bodyL ~ age + popI regression model. Report the 95% confidence interval for the regression parameters of popI and age on body length. Is the effect of age onto body length significant in the context of the model? How about the relationship between population and body length? \n"
   ]
  },
  {
   "cell_type": "code",
   "execution_count": 45,
   "metadata": {},
   "outputs": [
    {
     "name": "stdout",
     "output_type": "stream",
     "text": [
      "The age interval is: (0.13124259896725177, 0.7507449849515097) and the popl is: (1.0746561070407405, 3.683714094799123)\n"
     ]
    }
   ],
   "source": [
    "bStrap = bootstrapReg(df, df['bodyL'], ['age', 'popl'], fitfcn = multRegFit, numIter = 100)\n",
    "cInt1 = confidenceInt(bStrap[:, 1], 95)\n",
    "cInt2 = confidenceInt(bStrap[:, 2], 95)\n",
    "print(f'The age interval is: {cInt1} and the popl is: {cInt2}')"
   ]
  },
  {
   "attachments": {},
   "cell_type": "markdown",
   "metadata": {},
   "source": [
    "Written Answer: The effect of age onto body length is null since the interval does not include 0, and the relationship between population and body length is also null since the interval also doesn't include 0."
   ]
  },
  {
   "attachments": {},
   "cell_type": "markdown",
   "metadata": {},
   "source": [
    "## Task 2: Discrete response variable\n",
    "In this task we will investigate regression models in which the response variable is a discrete, dichotomous variable. \n",
    "### Question 1: Logistic Function (10pt)\n",
    "Starting with your function for multRegPredict, write a function logisticRegPredict(b,D,xname). As inputs it should take the \n",
    "- b: np-array of regression coefficients (the first one being the intercept)\n",
    "- D: Data frame\n",
    "- xname: a list of column names (in D) that are being used as regressors. \n",
    "\n",
    "The function should first calculate a = b[0] + b[1] * D[xname[0]] + b[2] * D[xname[1]] \n",
    "and then return the logistic function of a. \n",
    "\n",
    "Then make a Data frame with a single column with the values from -4 to 4 (in small steps). Plot the logistic function for the parameter values: \n",
    "- b = [0,0]\n",
    "- b = [0,1]\n",
    "- b = [0,2]\n",
    "- b = [0,-2]\n",
    "\n",
    "What happens as the slope value changes? \n",
    "\n",
    "Then plot the logistic function for the parameter values: \n",
    "- b = [0,2]\n",
    "- b = [1,2]\n",
    "- b = [2,2]\n",
    "- b = [-2,2]\n",
    "\n",
    "What happens as the intercept value changes? For each value - where does the predicted line cross p=0.5? \n",
    "\n"
   ]
  },
  {
   "cell_type": "code",
   "execution_count": 75,
   "metadata": {},
   "outputs": [
    {
     "data": {
      "text/plain": [
       "[<matplotlib.lines.Line2D at 0x1ceba601dc0>]"
      ]
     },
     "execution_count": 75,
     "metadata": {},
     "output_type": "execute_result"
    },
    {
     "data": {
      "image/png": "[encoded data removed]",
      "text/plain": [
       "<Figure size 432x288 with 1 Axes>"
      ]
     },
     "metadata": {
      "needs_background": "light"
     },
     "output_type": "display_data"
    }
   ],
   "source": [
    "def logisticRegPredict(b, D, xname):\n",
    "    an = np.ones(len(D.index)) * b[0]\n",
    "    \n",
    "    for i in range(len(xname)):          \n",
    "        an = an + b[i + 1] * D[xname[i]]\n",
    "        \n",
    "    pn = 1/(1 + np.exp(an))\n",
    "    return pn\n",
    "\n",
    "#Function testing **just using a test figure so there is not Figure 4 etc...**\n",
    "testing = np.linspace(-4, 4)\n",
    "TF = pd.DataFrame(testing, columns = ['test'])\n",
    "pn = logisticRegPredict([2, 2], TF, ['test'])\n",
    "plt.plot(TF['test'], pn, color = 'r')"
   ]
  },
  {
   "attachments": {},
   "cell_type": "markdown",
   "metadata": {},
   "source": [
    "Written Answer: As the intercept value changes I notice that dip usually becomes either closer or further from the left of the graph.  When the slope changes the graph becomes more extreme in the dip (dip becomes more pronounced).  When the values became negative the graph would flip.  EX. b = [2,-2] makes the graph flip compared to [2,2]"
   ]
  },
  {
   "attachments": {},
   "cell_type": "markdown",
   "metadata": {},
   "source": [
    "### Question 2 (10pt)\n",
    "Make a Scatterplot of tail length (as a x-variable) against popI (Population, 1:Victoria 0:other). \n",
    "Written answer: What relationship can you see? \n"
   ]
  },
  {
   "cell_type": "code",
   "execution_count": 65,
   "metadata": {},
   "outputs": [
    {
     "data": {
      "text/plain": [
       "<AxesSubplot:xlabel='tailL', ylabel='popl'>"
      ]
     },
     "execution_count": 65,
     "metadata": {},
     "output_type": "execute_result"
    },
    {
     "data": {
      "image/png": "[encoded data removed]",
      "text/plain": [
       "<Figure size 432x288 with 1 Axes>"
      ]
     },
     "metadata": {
      "needs_background": "light"
     },
     "output_type": "display_data"
    }
   ],
   "source": [
    "sns.scatterplot(x = 'tailL', y = 'popl', data = df)"
   ]
  },
  {
   "attachments": {},
   "cell_type": "markdown",
   "metadata": {},
   "source": [
    "Figure 4: Scatter plot of tail length and populationl\n",
    "\n",
    "Written Answer: There doesn't seem to be a good relationship between tail length and population at all since there is really only the extremes shown on the scatter plot, either the value is at the highest or its at the lowest."
   ]
  },
  {
   "attachments": {},
   "cell_type": "markdown",
   "metadata": {},
   "source": [
    "### Question 3 (10pt)\n",
    "Write a function logisticRegLoss(b,D,y,name) that calculates the Loss function for the logistic regression (negative log-likelihood, see lecture). The function should call logisticRegPredict to get the prediction, and then calculate the Loss and the derivative of the loss in respect to all regression paramaters. The function should be able to use multiple regressors (like multRegLossRSS from previous homeworks).    \n",
    "\n",
    "Report the negative log likelihood (and derivates) for a logistic regression model that predicts popI as a function of tailL: \n",
    "- for the parameter values [0,0]\n",
    "- for the parameter values [17.5,-0.5]\n",
    "- for the parameter values [25.56,-0.7]\n",
    "\n",
    "Which one is the best parameter setting of the three? "
   ]
  },
  {
   "cell_type": "code",
   "execution_count": 83,
   "metadata": {},
   "outputs": [
    {
     "name": "stdout",
     "output_type": "stream",
     "text": [
      "loss: 72.0873067782344, grad: [-3797. -1630.]\n",
      "loss: 66531.00000336075, grad: [-3848.99999664 -1652.9999981 ]\n",
      "loss: 97223.34000000119, grad: [-3849. -1653.]\n"
     ]
    }
   ],
   "source": [
    "def logisticRegLoss(b, D, y, xname):\n",
    "    p = logisticRegPredict(b, D, xname)\n",
    "    loss = -sum(y * np.log(p) + (1 - y) * np.log(1 - p))\n",
    "    N = len(xname)\n",
    "    grad = np.zeros(N + 1)\n",
    "    res = y - p\n",
    "\n",
    "    grad[0] = -np.sum(res)\n",
    "    for i in range(N):\n",
    "        grad[i + 1] = -np.sum(res * D[xname[i]])\n",
    "    return (loss, grad)\n",
    "\n",
    "#Function testing\n",
    "loss, grad = logisticRegLoss([0, 0], df, df['tailL'], ['popl'])\n",
    "print(f'loss: {loss}, grad: {grad}')\n",
    "loss, grad = logisticRegLoss([17.5, -0.5], df, df['tailL'], ['popl'])\n",
    "print(f'loss: {loss}, grad: {grad}')\n",
    "loss, grad = logisticRegLoss([25.56, -0.7], df, df['tailL'], ['popl'])\n",
    "print(f'loss: {loss}, grad: {grad}')"
   ]
  },
  {
   "attachments": {},
   "cell_type": "markdown",
   "metadata": {},
   "source": [
    "Written Answer: The best parameter setting of the three is the third one since it has the highest log-likelihood."
   ]
  },
  {
   "attachments": {},
   "cell_type": "markdown",
   "metadata": {},
   "source": [
    "### Question 4 (10pt)\n",
    "Write a function logisticRegFit(D,y,xname,figure=True) that fits the logistic model by minimizing the above Loss function. \n",
    "- D: A data frame with the explanatory variables \n",
    "- y: A dichotomous (0 or 1) response variable \n",
    "- xname: Names of x variables to be used \n",
    "- figure: Flag (True / False) indicating if the code should produce a figure. \n",
    "When there is only one x-variable, and figure==True, then function should produce a scatter plot of the data and the predicted values. \n",
    "\n",
    "The function should return the log-likelihood of the data under the best model and the best fitting (maximum liklihood) estimates of b. Remember that the function value you are minimizing is the *negative* log-likelihood, and the best fitting value is stored in RES.fun\n",
    "\n",
    "Fit a logistic regression model that predicts popI as a function of tailL. Make sure the function generates a plot. Report log-likelihood and b-values. "
   ]
  },
  {
   "cell_type": "code",
   "execution_count": 88,
   "metadata": {},
   "outputs": [],
   "source": [
    "def logisticRegFit(D, y, xname, figure = True):\n",
    "    N = len(xname)\n",
    "    b0=np.zeros((N+1,1))\n",
    "    RES = so.minimize(logisticRegLoss,b0,args=(D,y,xname),jac=True)\n",
    "    \n",
    "    #The function is not coming back with a successful RES but if it did\n",
    "    #then it would plot the scatterplot depending on the length of xname\n",
    "    if (not(RES.success)):\n",
    "        print('unsuccessful fit')\n",
    "        print(RES)\n",
    "        \n",
    "    if (figure):\n",
    "        if (N == 1):\n",
    "            sns.scatterplot(x = xname[0], y = y, data = df)\n",
    "        else:\n",
    "            sns.scatterplot(x = xname[0], y = y, hue = xname[1], data = df)\n",
    "    \n",
    "    b = RES.fun\n",
    "    res = y - np.mean(y)\n",
    "    TSS = sum(res ** 2)\n",
    "    RSS,deriv = logisticRegLoss(b, D, y, xname)\n",
    "    R2 = 1 - RSS / TSS\n",
    "    return (R2, b)"
   ]
  },
  {
   "attachments": {},
   "cell_type": "markdown",
   "metadata": {},
   "source": [
    "### Question 5 (10pt)\n",
    "Now fit the model explaing popI from tailL and bodyL in a multiple logistic regression model. Report the log-likelihood and parameter values. Is the fit better than tailL alone? \n",
    "\n",
    "Also fit the model explaing popI from tailL and totalL in a multiple logistic regression model. Again, report the log-likelihood and parameter values. \n",
    "\n",
    "What do you observe in terms of log-likelihood and in terms of paramters? Why do these two models yield exactly the same log-liklihood? "
   ]
  },
  {
   "cell_type": "code",
   "execution_count": 89,
   "metadata": {},
   "outputs": [
    {
     "name": "stderr",
     "output_type": "stream",
     "text": [
      "C:\\Users\\Public\\anaconda3\\lib\\site-packages\\pandas\\core\\arraylike.py:364: RuntimeWarning: divide by zero encountered in log\n",
      "  result = getattr(ufunc, method)(*inputs, **kwargs)\n",
      "C:\\Users\\Public\\anaconda3\\lib\\site-packages\\pandas\\core\\arraylike.py:364: RuntimeWarning: divide by zero encountered in log\n",
      "  result = getattr(ufunc, method)(*inputs, **kwargs)\n"
     ]
    },
    {
     "name": "stdout",
     "output_type": "stream",
     "text": [
      "unsuccessful fit\n",
      "      fun: nan\n",
      " hess_inv: array([[1, 0, 0],\n",
      "       [0, 1, 0],\n",
      "       [0, 0, 1]])\n",
      "      jac: array([  58. , 2196. , 2837.7])\n",
      "  message: 'Desired error not necessarily achieved due to precision loss.'\n",
      "     nfev: 112\n",
      "      nit: 1\n",
      "     njev: 112\n",
      "   status: 2\n",
      "  success: False\n",
      "        x: array([ -17.32328007, -783.87842303, -674.45303727])\n"
     ]
    },
    {
     "ename": "TypeError",
     "evalue": "'float' object is not subscriptable",
     "output_type": "error",
     "traceback": [
      "\u001b[1;31m---------------------------------------------------------------------------\u001b[0m",
      "\u001b[1;31mTypeError\u001b[0m                                 Traceback (most recent call last)",
      "\u001b[1;32mC:\\Users\\RYANH~1\\AppData\\Local\\Temp/ipykernel_19400/3088053978.py\u001b[0m in \u001b[0;36m<module>\u001b[1;34m\u001b[0m\n\u001b[1;32m----> 1\u001b[1;33m \u001b[0mR2\u001b[0m\u001b[1;33m,\u001b[0m \u001b[0mb\u001b[0m \u001b[1;33m=\u001b[0m \u001b[0mlogisticRegFit\u001b[0m\u001b[1;33m(\u001b[0m\u001b[0mdf\u001b[0m\u001b[1;33m,\u001b[0m \u001b[0mdf\u001b[0m\u001b[1;33m[\u001b[0m\u001b[1;34m'popl'\u001b[0m\u001b[1;33m]\u001b[0m\u001b[1;33m,\u001b[0m \u001b[1;33m[\u001b[0m\u001b[1;34m'tailL'\u001b[0m\u001b[1;33m,\u001b[0m \u001b[1;34m'bodyL'\u001b[0m\u001b[1;33m]\u001b[0m\u001b[1;33m)\u001b[0m\u001b[1;33m\u001b[0m\u001b[1;33m\u001b[0m\u001b[0m\n\u001b[0m\u001b[0;32m      2\u001b[0m \u001b[0mprint\u001b[0m\u001b[1;33m(\u001b[0m\u001b[1;34mf'R2: {R2}, b: {b}'\u001b[0m\u001b[1;33m)\u001b[0m\u001b[1;33m\u001b[0m\u001b[1;33m\u001b[0m\u001b[0m\n\u001b[0;32m      3\u001b[0m \u001b[0mR2\u001b[0m\u001b[1;33m,\u001b[0m \u001b[0mb\u001b[0m \u001b[1;33m=\u001b[0m \u001b[0mmultRegFit\u001b[0m\u001b[1;33m(\u001b[0m\u001b[0mdf\u001b[0m\u001b[1;33m,\u001b[0m \u001b[0mdf\u001b[0m\u001b[1;33m[\u001b[0m\u001b[1;34m'popl'\u001b[0m\u001b[1;33m]\u001b[0m\u001b[1;33m,\u001b[0m \u001b[1;33m[\u001b[0m\u001b[1;34m'tailL'\u001b[0m\u001b[1;33m,\u001b[0m \u001b[1;34m'bodyL'\u001b[0m\u001b[1;33m]\u001b[0m\u001b[1;33m)\u001b[0m\u001b[1;33m\u001b[0m\u001b[1;33m\u001b[0m\u001b[0m\n\u001b[0;32m      4\u001b[0m \u001b[0mprint\u001b[0m\u001b[1;33m(\u001b[0m\u001b[1;34mf'R2: {R2}, b: {b}'\u001b[0m\u001b[1;33m)\u001b[0m\u001b[1;33m\u001b[0m\u001b[1;33m\u001b[0m\u001b[0m\n",
      "\u001b[1;32mC:\\Users\\RYANH~1\\AppData\\Local\\Temp/ipykernel_19400/1536986616.py\u001b[0m in \u001b[0;36mlogisticRegFit\u001b[1;34m(D, y, xname, figure)\u001b[0m\n\u001b[0;32m     17\u001b[0m     \u001b[0mres\u001b[0m \u001b[1;33m=\u001b[0m \u001b[0my\u001b[0m \u001b[1;33m-\u001b[0m \u001b[0mnp\u001b[0m\u001b[1;33m.\u001b[0m\u001b[0mmean\u001b[0m\u001b[1;33m(\u001b[0m\u001b[0my\u001b[0m\u001b[1;33m)\u001b[0m\u001b[1;33m\u001b[0m\u001b[1;33m\u001b[0m\u001b[0m\n\u001b[0;32m     18\u001b[0m     \u001b[0mTSS\u001b[0m \u001b[1;33m=\u001b[0m \u001b[0msum\u001b[0m\u001b[1;33m(\u001b[0m\u001b[0mres\u001b[0m \u001b[1;33m**\u001b[0m \u001b[1;36m2\u001b[0m\u001b[1;33m)\u001b[0m\u001b[1;33m\u001b[0m\u001b[1;33m\u001b[0m\u001b[0m\n\u001b[1;32m---> 19\u001b[1;33m     \u001b[0mRSS\u001b[0m\u001b[1;33m,\u001b[0m\u001b[0mderiv\u001b[0m \u001b[1;33m=\u001b[0m \u001b[0mlogisticRegLoss\u001b[0m\u001b[1;33m(\u001b[0m\u001b[0mb\u001b[0m\u001b[1;33m,\u001b[0m \u001b[0mD\u001b[0m\u001b[1;33m,\u001b[0m \u001b[0my\u001b[0m\u001b[1;33m,\u001b[0m \u001b[0mxname\u001b[0m\u001b[1;33m)\u001b[0m\u001b[1;33m\u001b[0m\u001b[1;33m\u001b[0m\u001b[0m\n\u001b[0m\u001b[0;32m     20\u001b[0m     \u001b[0mR2\u001b[0m \u001b[1;33m=\u001b[0m \u001b[1;36m1\u001b[0m \u001b[1;33m-\u001b[0m \u001b[0mRSS\u001b[0m \u001b[1;33m/\u001b[0m \u001b[0mTSS\u001b[0m\u001b[1;33m\u001b[0m\u001b[1;33m\u001b[0m\u001b[0m\n\u001b[0;32m     21\u001b[0m     \u001b[1;32mreturn\u001b[0m \u001b[1;33m(\u001b[0m\u001b[0mR2\u001b[0m\u001b[1;33m,\u001b[0m \u001b[0mb\u001b[0m\u001b[1;33m)\u001b[0m\u001b[1;33m\u001b[0m\u001b[1;33m\u001b[0m\u001b[0m\n",
      "\u001b[1;32mC:\\Users\\RYANH~1\\AppData\\Local\\Temp/ipykernel_19400/2512944163.py\u001b[0m in \u001b[0;36mlogisticRegLoss\u001b[1;34m(b, D, y, xname)\u001b[0m\n\u001b[0;32m      1\u001b[0m \u001b[1;32mdef\u001b[0m \u001b[0mlogisticRegLoss\u001b[0m\u001b[1;33m(\u001b[0m\u001b[0mb\u001b[0m\u001b[1;33m,\u001b[0m \u001b[0mD\u001b[0m\u001b[1;33m,\u001b[0m \u001b[0my\u001b[0m\u001b[1;33m,\u001b[0m \u001b[0mxname\u001b[0m\u001b[1;33m)\u001b[0m\u001b[1;33m:\u001b[0m\u001b[1;33m\u001b[0m\u001b[1;33m\u001b[0m\u001b[0m\n\u001b[1;32m----> 2\u001b[1;33m     \u001b[0mp\u001b[0m \u001b[1;33m=\u001b[0m \u001b[0mlogisticRegPredict\u001b[0m\u001b[1;33m(\u001b[0m\u001b[0mb\u001b[0m\u001b[1;33m,\u001b[0m \u001b[0mD\u001b[0m\u001b[1;33m,\u001b[0m \u001b[0mxname\u001b[0m\u001b[1;33m)\u001b[0m\u001b[1;33m\u001b[0m\u001b[1;33m\u001b[0m\u001b[0m\n\u001b[0m\u001b[0;32m      3\u001b[0m     \u001b[0mloss\u001b[0m \u001b[1;33m=\u001b[0m \u001b[1;33m-\u001b[0m\u001b[0msum\u001b[0m\u001b[1;33m(\u001b[0m\u001b[0my\u001b[0m \u001b[1;33m*\u001b[0m \u001b[0mnp\u001b[0m\u001b[1;33m.\u001b[0m\u001b[0mlog\u001b[0m\u001b[1;33m(\u001b[0m\u001b[0mp\u001b[0m\u001b[1;33m)\u001b[0m \u001b[1;33m+\u001b[0m \u001b[1;33m(\u001b[0m\u001b[1;36m1\u001b[0m \u001b[1;33m-\u001b[0m \u001b[0my\u001b[0m\u001b[1;33m)\u001b[0m \u001b[1;33m*\u001b[0m \u001b[0mnp\u001b[0m\u001b[1;33m.\u001b[0m\u001b[0mlog\u001b[0m\u001b[1;33m(\u001b[0m\u001b[1;36m1\u001b[0m \u001b[1;33m-\u001b[0m \u001b[0mp\u001b[0m\u001b[1;33m)\u001b[0m\u001b[1;33m)\u001b[0m\u001b[1;33m\u001b[0m\u001b[1;33m\u001b[0m\u001b[0m\n\u001b[0;32m      4\u001b[0m     \u001b[0mN\u001b[0m \u001b[1;33m=\u001b[0m \u001b[0mlen\u001b[0m\u001b[1;33m(\u001b[0m\u001b[0mxname\u001b[0m\u001b[1;33m)\u001b[0m\u001b[1;33m\u001b[0m\u001b[1;33m\u001b[0m\u001b[0m\n\u001b[0;32m      5\u001b[0m     \u001b[0mgrad\u001b[0m \u001b[1;33m=\u001b[0m \u001b[0mnp\u001b[0m\u001b[1;33m.\u001b[0m\u001b[0mzeros\u001b[0m\u001b[1;33m(\u001b[0m\u001b[0mN\u001b[0m \u001b[1;33m+\u001b[0m \u001b[1;36m1\u001b[0m\u001b[1;33m)\u001b[0m\u001b[1;33m\u001b[0m\u001b[1;33m\u001b[0m\u001b[0m\n",
      "\u001b[1;32mC:\\Users\\RYANH~1\\AppData\\Local\\Temp/ipykernel_19400/2348169163.py\u001b[0m in \u001b[0;36mlogisticRegPredict\u001b[1;34m(b, D, xname)\u001b[0m\n\u001b[0;32m      1\u001b[0m \u001b[1;32mdef\u001b[0m \u001b[0mlogisticRegPredict\u001b[0m\u001b[1;33m(\u001b[0m\u001b[0mb\u001b[0m\u001b[1;33m,\u001b[0m \u001b[0mD\u001b[0m\u001b[1;33m,\u001b[0m \u001b[0mxname\u001b[0m\u001b[1;33m)\u001b[0m\u001b[1;33m:\u001b[0m\u001b[1;33m\u001b[0m\u001b[1;33m\u001b[0m\u001b[0m\n\u001b[1;32m----> 2\u001b[1;33m     \u001b[0man\u001b[0m \u001b[1;33m=\u001b[0m \u001b[0mnp\u001b[0m\u001b[1;33m.\u001b[0m\u001b[0mones\u001b[0m\u001b[1;33m(\u001b[0m\u001b[0mlen\u001b[0m\u001b[1;33m(\u001b[0m\u001b[0mD\u001b[0m\u001b[1;33m.\u001b[0m\u001b[0mindex\u001b[0m\u001b[1;33m)\u001b[0m\u001b[1;33m)\u001b[0m \u001b[1;33m*\u001b[0m \u001b[0mb\u001b[0m\u001b[1;33m[\u001b[0m\u001b[1;36m0\u001b[0m\u001b[1;33m]\u001b[0m\u001b[1;33m\u001b[0m\u001b[1;33m\u001b[0m\u001b[0m\n\u001b[0m\u001b[0;32m      3\u001b[0m     \u001b[1;32mfor\u001b[0m \u001b[0mi\u001b[0m \u001b[1;32min\u001b[0m \u001b[0mrange\u001b[0m\u001b[1;33m(\u001b[0m\u001b[0mlen\u001b[0m\u001b[1;33m(\u001b[0m\u001b[0mxname\u001b[0m\u001b[1;33m)\u001b[0m\u001b[1;33m)\u001b[0m\u001b[1;33m:\u001b[0m\u001b[1;33m\u001b[0m\u001b[1;33m\u001b[0m\u001b[0m\n\u001b[0;32m      4\u001b[0m         \u001b[0man\u001b[0m \u001b[1;33m=\u001b[0m \u001b[0man\u001b[0m \u001b[1;33m+\u001b[0m \u001b[0mb\u001b[0m\u001b[1;33m[\u001b[0m\u001b[0mi\u001b[0m \u001b[1;33m+\u001b[0m \u001b[1;36m1\u001b[0m\u001b[1;33m]\u001b[0m \u001b[1;33m*\u001b[0m \u001b[0mD\u001b[0m\u001b[1;33m[\u001b[0m\u001b[0mxname\u001b[0m\u001b[1;33m[\u001b[0m\u001b[0mi\u001b[0m\u001b[1;33m]\u001b[0m\u001b[1;33m]\u001b[0m\u001b[1;33m\u001b[0m\u001b[1;33m\u001b[0m\u001b[0m\n\u001b[0;32m      5\u001b[0m \u001b[1;33m\u001b[0m\u001b[0m\n",
      "\u001b[1;31mTypeError\u001b[0m: 'float' object is not subscriptable"
     ]
    },
    {
     "data": {
      "image/png": "[encoded data removed]",
      "text/plain": [
       "<Figure size 432x288 with 1 Axes>"
      ]
     },
     "metadata": {
      "needs_background": "light"
     },
     "output_type": "display_data"
    }
   ],
   "source": [
    "R2, b = logisticRegFit(df, df['popl'], ['tailL', 'bodyL']) #Issue with optimizing the function\n",
    "print(f'R2: {R2}, b: {b}')\n",
    "R2, b = multRegFit(df, df['popl'], ['tailL', 'bodyL'])\n",
    "print(f'R2: {R2}, b: {b}')"
   ]
  },
  {
   "attachments": {},
   "cell_type": "markdown",
   "metadata": {},
   "source": [
    "Figure 5: Scatter plots of 'popl' explained by both 'tailL' and 'bodyL'\n",
    "\n",
    "Written Answer: In terms of the log-likelihood we can see that they are the same, and from the parameters we can see that the third parameter from above is still the best.  The models yield the same likelihood because the relationship is very similar between the two variables."
   ]
  },
  {
   "cell_type": "code",
   "execution_count": null,
   "metadata": {},
   "outputs": [],
   "source": []
  }
 ],
 "metadata": {
  "kernelspec": {
   "display_name": "Python 3 (ipykernel)",
   "language": "python",
   "name": "python3"
  },
  "language_info": {
   "codemirror_mode": {
    "name": "ipython",
    "version": 3
   },
   "file_extension": ".py",
   "mimetype": "text/x-python",
   "name": "python",
   "nbconvert_exporter": "python",
   "pygments_lexer": "ipython3",
   "version": "3.9.7"
  }
 },
 "nbformat": 4,
 "nbformat_minor": 1
}

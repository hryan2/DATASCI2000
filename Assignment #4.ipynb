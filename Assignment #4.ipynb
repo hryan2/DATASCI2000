{
 "cells": [
  {
   "attachments": {},
   "cell_type": "markdown",
   "metadata": {},
   "source": [
    "# Assignment 4\n",
    "## Learning Outcomes\n",
    "We will continue on the use of randomization and Monte-Carlo simulation tests to determine whether a specific effect is statistically significant. Randomization and simulation tests are universal and powerful way to do this, and form an essential part of the toolkit of any Data Scientist. \n",
    "## Problem Description\n",
    "In Task 1 & 2, we continue with the movie dataset. The first two task build and run randomization tests with two new test statistics. In Task 3 you are asked to program a simple monte-Carlo simulation test.  "
   ]
  },
  {
   "cell_type": "code",
   "execution_count": 140,
   "metadata": {},
   "outputs": [],
   "source": [
    "import matplotlib\n",
    "matplotlib.use('TkAgg')\n",
    "import matplotlib.pyplot as plt \n",
    "%matplotlib inline\n",
    "\n",
    "import numpy as np\n",
    "import pandas as pd"
   ]
  },
  {
   "cell_type": "code",
   "execution_count": 141,
   "metadata": {},
   "outputs": [
    {
     "data": {
      "text/html": [
       "<div>\n",
       "<style scoped>\n",
       "    .dataframe tbody tr th:only-of-type {\n",
       "        vertical-align: middle;\n",
       "    }\n",
       "\n",
       "    .dataframe tbody tr th {\n",
       "        vertical-align: top;\n",
       "    }\n",
       "\n",
       "    .dataframe thead th {\n",
       "        text-align: right;\n",
       "    }\n",
       "</style>\n",
       "<table border=\"1\" class=\"dataframe\">\n",
       "  <thead>\n",
       "    <tr style=\"text-align: right;\">\n",
       "      <th></th>\n",
       "      <th>Unnamed: 0</th>\n",
       "      <th>boxoff</th>\n",
       "      <th>prodcost</th>\n",
       "      <th>dirIncome</th>\n",
       "      <th>dirGender</th>\n",
       "      <th>year</th>\n",
       "      <th>month</th>\n",
       "      <th>genre</th>\n",
       "      <th>numTheatres</th>\n",
       "    </tr>\n",
       "  </thead>\n",
       "  <tbody>\n",
       "    <tr>\n",
       "      <th>0</th>\n",
       "      <td>0</td>\n",
       "      <td>88.648583</td>\n",
       "      <td>44.742936</td>\n",
       "      <td>1.143234</td>\n",
       "      <td>male</td>\n",
       "      <td>2012</td>\n",
       "      <td>3</td>\n",
       "      <td>comedy</td>\n",
       "      <td>139</td>\n",
       "    </tr>\n",
       "    <tr>\n",
       "      <th>1</th>\n",
       "      <td>1</td>\n",
       "      <td>145.334924</td>\n",
       "      <td>38.835516</td>\n",
       "      <td>3.393535</td>\n",
       "      <td>female</td>\n",
       "      <td>2014</td>\n",
       "      <td>11</td>\n",
       "      <td>drama</td>\n",
       "      <td>213</td>\n",
       "    </tr>\n",
       "    <tr>\n",
       "      <th>2</th>\n",
       "      <td>2</td>\n",
       "      <td>238.265684</td>\n",
       "      <td>29.532283</td>\n",
       "      <td>2.418883</td>\n",
       "      <td>male</td>\n",
       "      <td>2015</td>\n",
       "      <td>6</td>\n",
       "      <td>other</td>\n",
       "      <td>100</td>\n",
       "    </tr>\n",
       "    <tr>\n",
       "      <th>3</th>\n",
       "      <td>3</td>\n",
       "      <td>212.714742</td>\n",
       "      <td>157.111899</td>\n",
       "      <td>2.034115</td>\n",
       "      <td>male</td>\n",
       "      <td>2014</td>\n",
       "      <td>10</td>\n",
       "      <td>adventure</td>\n",
       "      <td>436</td>\n",
       "    </tr>\n",
       "    <tr>\n",
       "      <th>4</th>\n",
       "      <td>4</td>\n",
       "      <td>120.175461</td>\n",
       "      <td>30.547155</td>\n",
       "      <td>0.963219</td>\n",
       "      <td>female</td>\n",
       "      <td>2012</td>\n",
       "      <td>1</td>\n",
       "      <td>comedy</td>\n",
       "      <td>115</td>\n",
       "    </tr>\n",
       "  </tbody>\n",
       "</table>\n",
       "</div>"
      ],
      "text/plain": [
       "   Unnamed: 0      boxoff    prodcost  dirIncome dirGender  year  month  \\\n",
       "0           0   88.648583   44.742936   1.143234      male  2012      3   \n",
       "1           1  145.334924   38.835516   3.393535    female  2014     11   \n",
       "2           2  238.265684   29.532283   2.418883      male  2015      6   \n",
       "3           3  212.714742  157.111899   2.034115      male  2014     10   \n",
       "4           4  120.175461   30.547155   0.963219    female  2012      1   \n",
       "\n",
       "       genre  numTheatres  \n",
       "0     comedy          139  \n",
       "1      drama          213  \n",
       "2      other          100  \n",
       "3  adventure          436  \n",
       "4     comedy          115  "
      ]
     },
     "execution_count": 141,
     "metadata": {},
     "output_type": "execute_result"
    }
   ],
   "source": [
    "df = pd.read_csv('movieDataset.csv')\n",
    "df.head()"
   ]
  },
  {
   "attachments": {},
   "cell_type": "markdown",
   "metadata": {},
   "source": [
    "## TASK 1: Chi-square test of independence (40pts)\n",
    "To test whether two discrete variables interact with each other, you can perform the Chi-sqaure test. The Chi-square statistic measures the deviation of the observed cell counts in a contingency table to the expected counts (see lecture).  \n",
    "### Question 1: Null-hypothesis (5pts)\n",
    "We want to test the hypothesis that there is a systematic relationship between director Gender and film genre. Please formulate the corresponding Null-hypothesis."
   ]
  },
  {
   "cell_type": "code",
   "execution_count": 142,
   "metadata": {},
   "outputs": [],
   "source": [
    "#The null-hypothesis in this case would be that there is no systematic relationship between director gender and film genre\n",
    "#In other words, the null-hypothesis says that director gender and genre are independent"
   ]
  },
  {
   "attachments": {},
   "cell_type": "markdown",
   "metadata": {},
   "source": [
    "### Question 2: Expected frequencies (10pts)\n",
    "From the table of the observed frequencies of genre / director Gender, generate a table that shows the expected frequencies if genre and gender were independent. The Marginal counts in the table should stay unchanged. "
   ]
  },
  {
   "cell_type": "code",
   "execution_count": 143,
   "metadata": {},
   "outputs": [
    {
     "data": {
      "text/html": [
       "<div>\n",
       "<style scoped>\n",
       "    .dataframe tbody tr th:only-of-type {\n",
       "        vertical-align: middle;\n",
       "    }\n",
       "\n",
       "    .dataframe tbody tr th {\n",
       "        vertical-align: top;\n",
       "    }\n",
       "\n",
       "    .dataframe thead th {\n",
       "        text-align: right;\n",
       "    }\n",
       "</style>\n",
       "<table border=\"1\" class=\"dataframe\">\n",
       "  <thead>\n",
       "    <tr style=\"text-align: right;\">\n",
       "      <th>genre</th>\n",
       "      <th>action</th>\n",
       "      <th>adventure</th>\n",
       "      <th>comedy</th>\n",
       "      <th>drama</th>\n",
       "      <th>other</th>\n",
       "    </tr>\n",
       "    <tr>\n",
       "      <th>dirGender</th>\n",
       "      <th></th>\n",
       "      <th></th>\n",
       "      <th></th>\n",
       "      <th></th>\n",
       "      <th></th>\n",
       "    </tr>\n",
       "  </thead>\n",
       "  <tbody>\n",
       "    <tr>\n",
       "      <th>female</th>\n",
       "      <td>8.436</td>\n",
       "      <td>9.472</td>\n",
       "      <td>7.104</td>\n",
       "      <td>5.328</td>\n",
       "      <td>6.66</td>\n",
       "    </tr>\n",
       "    <tr>\n",
       "      <th>male</th>\n",
       "      <td>48.564</td>\n",
       "      <td>54.528</td>\n",
       "      <td>40.896</td>\n",
       "      <td>30.672</td>\n",
       "      <td>38.34</td>\n",
       "    </tr>\n",
       "  </tbody>\n",
       "</table>\n",
       "</div>"
      ],
      "text/plain": [
       "genre      action  adventure  comedy   drama  other\n",
       "dirGender                                          \n",
       "female      8.436      9.472   7.104   5.328   6.66\n",
       "male       48.564     54.528  40.896  30.672  38.34"
      ]
     },
     "metadata": {},
     "output_type": "display_data"
    }
   ],
   "source": [
    "#Creating the expected value array starting with the observed table\n",
    "obsvTable = pd.crosstab(df['dirGender'], df['genre'])\n",
    "obsvArray = np.array(obsvTable)\n",
    "[nCol, nRow] = obsvArray.shape\n",
    "expArray = np.zeros([nCol, nRow])\n",
    "\n",
    "#Filling in the expected array\n",
    "for i in range(nCol):\n",
    "    for j in range(nRow):\n",
    "        compA = np.sum(obsvArray[i, :])\n",
    "        compB = np.sum(obsvArray[:, j])\n",
    "        tableTotal = np.sum(obsvArray.flatten())\n",
    "        expArray[i, j] = (compA*compB)/tableTotal\n",
    "        \n",
    "#Turning the expected array into a table\n",
    "expTable = pd.DataFrame(expArray)\n",
    "expTable.columns = obsvTable.columns\n",
    "expTable.index = obsvTable.index\n",
    "display(expTable)"
   ]
  },
  {
   "attachments": {},
   "cell_type": "markdown",
   "metadata": {},
   "source": [
    "### Question 3: Chi-square (10pts)\n",
    "Create one function that takes the data frame as input and calculates a statistics of the overall deviation between expected and observed frequencies: \n",
    "$χ^2 = \\sum_i(O_i-E_i)^2/E_i)$ \n",
    "\n",
    "Where $O_i$ is the observed frequency for cell $i$, $E_i$ is the expected frequency for cell $i$, assuming independence of gender and genre. The sum is to be taken over all 10 cells. This test-statistic is called the Chi-square test of independence.\n",
    "\n",
    "Report the value of this statistic for the real data. \n"
   ]
  },
  {
   "cell_type": "code",
   "execution_count": 144,
   "metadata": {},
   "outputs": [],
   "source": [
    "def chiCalc(dataframe):\n",
    "    #Creating the expected value array\n",
    "    obsvTable = pd.crosstab(dataframe['dirGender'], dataframe['genre'])\n",
    "    obsvArray = np.array(obsvTable)\n",
    "    [nCol, nRow] = obsvArray.shape\n",
    "    expArray = np.zeros([nCol, nRow])\n",
    "\n",
    "    #Filling in the values for the expected array\n",
    "    for i in range(nCol):\n",
    "        for j in range(nRow):\n",
    "            compA = np.sum(obsvArray[i, :])\n",
    "            compB = np.sum(obsvArray[:, j])\n",
    "            tableTotal = np.sum(obsvArray.flatten())\n",
    "            expArray[i, j] = (compA*compB)/tableTotal\n",
    "    \n",
    "    #Calculating the Chi-square statistic\n",
    "    chiValue = ((obsvArray - expArray)**2) / expArray\n",
    "    X = np.sum(chiValue.flatten())\n",
    "    \n",
    "    return X\n",
    "    "
   ]
  },
  {
   "cell_type": "code",
   "execution_count": 145,
   "metadata": {},
   "outputs": [
    {
     "name": "stdout",
     "output_type": "stream",
     "text": [
      "The result of the Chi-square test is: 8.552102881235573\n"
     ]
    }
   ],
   "source": [
    "#Function testing\n",
    "chiS = chiCalc(df)\n",
    "print(f'The result of the Chi-square test is: {chiS}')"
   ]
  },
  {
   "attachments": {},
   "cell_type": "markdown",
   "metadata": {},
   "source": [
    "### Question 4: Randomization with flexible input arguments (5pts)\n",
    "Rewrite the randomization function from the last homework, so it it becomes more versatile by adding additional input arguments that determines the behavior of the routine. \n",
    "\n",
    "- The first argument should still be a dataframe (as before)\n",
    "- The second input argument should be a function that computes the test statistics. All test-statistic functions are assumed to take the data frame as the first and only input. \n",
    "- The third input argument is the name of the dataframe column that is being shuffled. \n",
    "- An optional input argument: the number of iterations (default=500)\n",
    "- An optional input argument: the number of sides of the test (1 or 2; default = 1). If the test is two-sided, then count the number of cases where the absolute value of the test statistic (np.abolute) is larger or equal to the real test statistic.\n",
    "- An optional input argument: The number of bins for plotting the histogram \n"
   ]
  },
  {
   "cell_type": "code",
   "execution_count": 146,
   "metadata": {},
   "outputs": [],
   "source": [
    "def randomTest(dataframe, fcn, shuffle, numIter = 500, numSides = 1, numBins = 15):\n",
    "    #Creating stat array\n",
    "    statsArray = np.zeros([numIter])\n",
    "    \n",
    "    #Creating a copy of the indices of the dataframe and the dataframe itself\n",
    "    df_copy = dataframe.copy()\n",
    "    indices = np.arange(len(df_copy))\n",
    "    \n",
    "    #Shuffling the shuffle-able variable for the test\n",
    "    for i in range(numIter):\n",
    "        np.random.shuffle(indices)\n",
    "        shuffleVar = df_copy[shuffle].iloc[indices]\n",
    "        shuffleVar = shuffleVar.reset_index(drop = 1)\n",
    "        df_copy[shuffle] = shuffleVar\n",
    "        \n",
    "        statsArray[i] = fcn(df_copy)\n",
    "    \n",
    "    #Plot the data calculated above and show the actual value as a line\n",
    "    statsDiff = fcn(df)\n",
    "    plt.hist(statsArray, bins = numBins)\n",
    "    plt.xlabel('Male-Female Income')\n",
    "    plt.ylabel('Frequency')\n",
    "    plt.axvline(statsDiff, color = 'r')\n",
    "    \n",
    "    #Calculate the p-value\n",
    "    H0 = statsArray > statsDiff\n",
    "    p = sum(H0)/len(statsArray)\n",
    "    \n",
    "    return p"
   ]
  },
  {
   "attachments": {},
   "cell_type": "markdown",
   "metadata": {},
   "source": [
    "### Question 5: Randomization test (5pts)\n",
    "Perform a randomization test for the Chi-square test of independence. Your function should plot the histogram and report the p-value."
   ]
  },
  {
   "cell_type": "code",
   "execution_count": 147,
   "metadata": {},
   "outputs": [
    {
     "name": "stdout",
     "output_type": "stream",
     "text": [
      "P-value using chiCalc: 0.058\n"
     ]
    },
    {
     "data": {
      "image/png": "[encoded data removed]",
      "text/plain": [
       "<Figure size 432x288 with 1 Axes>"
      ]
     },
     "metadata": {
      "needs_background": "light"
     },
     "output_type": "display_data"
    }
   ],
   "source": [
    "#Function testing\n",
    "pValue1 = randomTest(df, chiCalc, 'dirGender')\n",
    "print(f'P-value using chiCalc: {pValue1}')"
   ]
  },
  {
   "attachments": {},
   "cell_type": "markdown",
   "metadata": {},
   "source": [
    "Figure 1: Randomization test using the Chi-square method"
   ]
  },
  {
   "attachments": {},
   "cell_type": "markdown",
   "metadata": {},
   "source": [
    "### Question 6: Conclusion (5pts)\n",
    "Written response: Based on the results, what can you conclude from this test? "
   ]
  },
  {
   "cell_type": "code",
   "execution_count": 148,
   "metadata": {},
   "outputs": [],
   "source": [
    "#Based on the results of the Chi-Square test, I can conclude that the test is not itself statistically significant since it is near a p-value of 0.05\n",
    "#It also tells us that we do not reject the null hypothesis but we are close to the margin so we should consider it."
   ]
  },
  {
   "attachments": {},
   "cell_type": "markdown",
   "metadata": {},
   "source": [
    "# TASK 2: Randomization test for mean differences (25pts)\n",
    "In this task we will test the hypothesis that male and female directors differ in their annual income. Note that the hypothesis is undirected, meaning it could mean either that men earn more than women, or that women earn more than men."
   ]
  },
  {
   "attachments": {},
   "cell_type": "markdown",
   "metadata": {},
   "source": [
    "### Question 1: Null hypothesis (5pts)\n",
    "Formulate the Null-hypothesis. "
   ]
  },
  {
   "cell_type": "code",
   "execution_count": 149,
   "metadata": {},
   "outputs": [],
   "source": [
    "#The null-hypothesis states that male and female directors do not differ in annual income"
   ]
  },
  {
   "attachments": {},
   "cell_type": "markdown",
   "metadata": {},
   "source": [
    "### Question 2: Difference of means (8pts)\n",
    "Write a function that calculates and returns the difference in director salaries depending on the gender (male average income – female average income). Report the value. "
   ]
  },
  {
   "cell_type": "code",
   "execution_count": 150,
   "metadata": {},
   "outputs": [],
   "source": [
    "def meanDiff(dataframe):\n",
    "    #Grouping the dirIncome and dirGender categories for easy calculations\n",
    "    incByGender = dataframe['dirIncome'].groupby(dataframe['dirGender'])\n",
    "\n",
    "    #Getting each gendered group and finding the mean difference between them\n",
    "    maleInc = incByGender.get_group('male')\n",
    "    femaleInc = incByGender.get_group('female')\n",
    "    iDiff = maleInc.mean() - femaleInc.mean()\n",
    "    \n",
    "    return iDiff"
   ]
  },
  {
   "attachments": {},
   "cell_type": "markdown",
   "metadata": {
    "collapsed": true
   },
   "source": [
    "### Question 3:  Randomization test (7pts)\n",
    "Use your randomization test function to perform a randomization test to determine whether the reported difference is statistical significant. Plot a histogram of the null-distribution and the real value. Report the p-value for the two-sided test. "
   ]
  },
  {
   "cell_type": "code",
   "execution_count": 151,
   "metadata": {},
   "outputs": [
    {
     "name": "stdout",
     "output_type": "stream",
     "text": [
      "P-value using meanDiff: 0.002\n"
     ]
    },
    {
     "data": {
      "image/png": "[encoded data removed]",
      "text/plain": [
       "<Figure size 432x288 with 1 Axes>"
      ]
     },
     "metadata": {
      "needs_background": "light"
     },
     "output_type": "display_data"
    }
   ],
   "source": [
    "#Function testing\n",
    "pValue2 = randomTest(df, meanDiff, 'dirGender')\n",
    "print(f'P-value using meanDiff: {pValue2}')"
   ]
  },
  {
   "attachments": {},
   "cell_type": "markdown",
   "metadata": {},
   "source": [
    "Figure 2: Randomization test for the mean difference of gendered director incomes"
   ]
  },
  {
   "attachments": {},
   "cell_type": "markdown",
   "metadata": {},
   "source": [
    "### Question 4: Conclusion (5pts)\n",
    "What do you conclude about the relationship between gender and salary? What can you conclude about the claim that there is gender discrimination in the American film industry?  \n"
   ]
  },
  {
   "cell_type": "code",
   "execution_count": 152,
   "metadata": {},
   "outputs": [],
   "source": [
    "#Given the results of this test, I can conclude that the test is statistcally significant and that we should reject the null hypothesis."
   ]
  },
  {
   "attachments": {},
   "cell_type": "markdown",
   "metadata": {
    "collapsed": true
   },
   "source": [
    "# Task 3: Monte-Carlo simulation test (35pt)\n",
    "People providing an organ for donation sometimes seek help from a medical consultant. These consultants assist the patient in all aspects of the surgery. Patients might choose a consultant based in part on the historical complication rate of the consultant's clients. Consultant R tries to attract patients by noting the average complication rate for liver donor surgeries in the US is about 10%, but her clients have had only 3 complications in the 62 liver donor surgeries she has facilitated. She claims this is strong evidence that her work meaningfully contributes to reducing complications (and therefore she should be hired!).\n",
    "### Question 1: Monte Carlo simulation (15pts)\n",
    "Write a function (monteCarloSim) that simulates coin tossing. On each trial, the function should produce a specific number (N) of coin tosses and record the number of successes (heads). It should repeat this experiment numIter number of times. The inputs to the function should be a) probability of a success on each coin toss, b) the number of coin tosses per trial (N) and c) the number of trials. The function should return an np.array(range(numIter)) that holds the recorded number of heads for all trials (see lecture handout for tips)."
   ]
  },
  {
   "cell_type": "code",
   "execution_count": 153,
   "metadata": {},
   "outputs": [],
   "source": [
    "def coinSim(pSuccess, N, numTrials):\n",
    "    #Heads = 1\n",
    "    #Tails = 0\n",
    "    \n",
    "    #Creating the head counting array\n",
    "    headArray = np.zeros([numTrials])\n",
    "    \n",
    "    #Flipping the coin and filling the array with the number of heads for each trial\n",
    "    for i in range(numTrials):\n",
    "        coinToss = np.random.choice(a = [0, 1], size = N, replace = True, p = [1 - pSuccess, pSuccess])\n",
    "        numHeads = np.sum(coinToss)\n",
    "        headArray[i] = numHeads\n",
    "    \n",
    "    return headArray"
   ]
  },
  {
   "cell_type": "code",
   "execution_count": 154,
   "metadata": {},
   "outputs": [
    {
     "name": "stdout",
     "output_type": "stream",
     "text": [
      "<class 'numpy.ndarray'>\n",
      "(2,)\n",
      "[14. 16.]\n"
     ]
    }
   ],
   "source": [
    "#Function testing\n",
    "mcSim = coinSim(0.3, 50, 2)\n",
    "print(type(mcSim))\n",
    "print(mcSim.shape)\n",
    "print(mcSim)"
   ]
  },
  {
   "attachments": {},
   "cell_type": "markdown",
   "metadata": {},
   "source": [
    "### Question 2: Monte Carlo Test (15pts)\n",
    "Write a function (monteCarloTest) that uses monteCarloSim to simulate 1000 trials. The function should also plot a histogram of the recorded number of heads, and mark the real measured number with a vertical line. The function should print out the probability that the simulated number of heads is smaller than or equal to the measured number of heads. Input arguments should be a) the probability of a success under the Null-hypothesis, b) the number of coin tosses per trial, and c) the measured number of heads. Use the function to evaluate the probability to get 3 complications in 62 cases if the probability of a complication in the population is known to be 10%. "
   ]
  },
  {
   "cell_type": "code",
   "execution_count": 155,
   "metadata": {},
   "outputs": [],
   "source": [
    "def coinTest(pSuccess, N, numHeads):\n",
    "    #Simulate the coin flipping\n",
    "    headArray = coinSim(pSuccess, N, 1000)\n",
    "    \n",
    "    #Plot the simulated data and put the real data as a line\n",
    "    plt.hist(headArray, bins = 20)\n",
    "    plt.xlabel('Number of Observed Heads')\n",
    "    plt.ylabel('Frequency')\n",
    "    plt.axvline(x = numHeads, color = 'black')\n",
    "    \n",
    "    #Calculate p-value\n",
    "    p = sum(headArray >= numHeads)/len(headArray)\n",
    "    \n",
    "    return p"
   ]
  },
  {
   "cell_type": "code",
   "execution_count": 156,
   "metadata": {},
   "outputs": [
    {
     "name": "stdout",
     "output_type": "stream",
     "text": [
      "The probability of the Monte-Carlo Test is: 0.948\n"
     ]
    },
    {
     "data": {
      "image/png": "[encoded data removed]",
      "text/plain": [
       "<Figure size 432x288 with 1 Axes>"
      ]
     },
     "metadata": {
      "needs_background": "light"
     },
     "output_type": "display_data"
    }
   ],
   "source": [
    "#Function testing\n",
    "coinP = coinTest(0.1, 62, 3)\n",
    "print(f'The probability of the Monte-Carlo Test is: {coinP}')"
   ]
  },
  {
   "attachments": {},
   "cell_type": "markdown",
   "metadata": {},
   "source": [
    "Figure 3: Monte-Carlo test of a coin tossing with 1000 trials"
   ]
  },
  {
   "attachments": {},
   "cell_type": "markdown",
   "metadata": {},
   "source": [
    "### Question 3: Conclusion (5pts)\n",
    "Written answer: What do you conclude about the claim that the work of advisor R is lowering complication rates?"
   ]
  },
  {
   "cell_type": "code",
   "execution_count": 157,
   "metadata": {},
   "outputs": [],
   "source": [
    "#Given the results of the test, I can conclude that the test is not statistically significant and that we do not reject the null hypothesis in this case"
   ]
  }
 ],
 "metadata": {
  "kernelspec": {
   "display_name": "Python 3 (ipykernel)",
   "language": "python",
   "name": "python3"
  },
  "language_info": {
   "codemirror_mode": {
    "name": "ipython",
    "version": 3
   },
   "file_extension": ".py",
   "mimetype": "text/x-python",
   "name": "python",
   "nbconvert_exporter": "python",
   "pygments_lexer": "ipython3",
   "version": "3.9.7"
  }
 },
 "nbformat": 4,
 "nbformat_minor": 1
}

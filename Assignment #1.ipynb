{
 "cells": [
  {
   "attachments": {},
   "cell_type": "markdown",
   "metadata": {},
   "source": [
    "# Assignment 01\n",
    "### Learning Outcomes \n",
    "By completing this assignment, you will gain and demonstrate skills relating to\n",
    "- Working within the python and Jupyter notebook environment \n",
    "- Learning the basics of pandas’ dataframes \n",
    "- Extracting descriptive statistics from the data\n",
    "- Plot basic histograms and judge the shape of different distributions\n",
    "\n",
    "### Problem Description\n",
    "As a data scientist for a Hollywood investment company you have been charged with creating a summary of the last 250 movies so that your boss can have a deeper understanding of the movie industry. The dataset that you will be working with includes 8 different variables\n",
    "- North American box office revenue (boxoff)\n",
    "- Production cost of the movie (prodcost)\n",
    "- Income of the director (dirIncome)\n",
    "- Gender of the director (dirGender) \n",
    "- Year of release (year)\n",
    "- Month of release (month) \n",
    "- Movie genre (genre)\n",
    "- Number of theatres (numTheatres)\n",
    "\n",
    "### General Marking criteria: \n",
    "- Working code in Python 3.7 \n",
    "- Written answer in full English sentences, if required \n",
    "- For more complicated questions, show how you arrived at your answer\n",
    "- Informative variable names \n",
    "- For larger pieces of code, proper comments and explanations \n",
    "- All figures require axis labels + a caption "
   ]
  },
  {
   "cell_type": "markdown",
   "metadata": {},
   "source": [
    "## Task1: load the data into dataframe (? \\ 5 points)"
   ]
  },
  {
   "cell_type": "markdown",
   "metadata": {},
   "source": [
    "### Question1. import pandas as pd (pg.13) (? \\1 points)"
   ]
  },
  {
   "cell_type": "code",
   "execution_count": 1,
   "metadata": {},
   "outputs": [],
   "source": [
    "import pandas as pd"
   ]
  },
  {
   "cell_type": "markdown",
   "metadata": {},
   "source": [
    "### Question2. load the data file as a dataframe object (pg. 155 – 159) (? \\ 4 points)"
   ]
  },
  {
   "cell_type": "code",
   "execution_count": 2,
   "metadata": {},
   "outputs": [],
   "source": [
    "df = pd.read_csv('movieDataset.csv')"
   ]
  },
  {
   "cell_type": "markdown",
   "metadata": {},
   "source": [
    "## Task2: Understanding Pandas dataframe structure (? \\ 25 points)"
   ]
  },
  {
   "cell_type": "markdown",
   "metadata": {},
   "source": [
    "### Question1. learning how to access column names (pg. 116) (? \\ 2 points)\n",
    "Print the names of the columns in the data frame you loaded"
   ]
  },
  {
   "cell_type": "code",
   "execution_count": 3,
   "metadata": {},
   "outputs": [
    {
     "name": "stdout",
     "output_type": "stream",
     "text": [
      "Index(['Unnamed: 0', 'boxoff', 'prodcost', 'dirIncome', 'dirGender', 'year',\n",
      "       'month', 'genre', 'numTheatres'],\n",
      "      dtype='object')\n"
     ]
    }
   ],
   "source": [
    "print(df.columns)"
   ]
  },
  {
   "cell_type": "markdown",
   "metadata": {},
   "source": [
    "### Question2. Retrieving a column (pg. 116) (? \\ 3 points)\n",
    "Print the data in the directorIncome column to the screen "
   ]
  },
  {
   "cell_type": "code",
   "execution_count": 4,
   "metadata": {},
   "outputs": [
    {
     "name": "stdout",
     "output_type": "stream",
     "text": [
      "0      3.393535\n",
      "1      1.134711\n",
      "2      2.418883\n",
      "3      2.034115\n",
      "4      0.963219\n",
      "         ...   \n",
      "245    3.105438\n",
      "246    1.917771\n",
      "247    2.414571\n",
      "248    2.176928\n",
      "249    2.315791\n",
      "Name: dirIncome, Length: 250, dtype: float64\n"
     ]
    }
   ],
   "source": [
    "directorInc = df['dirIncome']\n",
    "print(directorInc)"
   ]
  },
  {
   "cell_type": "markdown",
   "metadata": {},
   "source": [
    "### Question3. Retrieving a data entry (i.e. a row) (pg. 117) (? \\ 5 points)\n",
    "Print the data in the 15 row "
   ]
  },
  {
   "cell_type": "code",
   "execution_count": 5,
   "metadata": {},
   "outputs": [
    {
     "name": "stdout",
     "output_type": "stream",
     "text": [
      "Unnamed: 0             15\n",
      "boxoff         164.259719\n",
      "prodcost        35.419632\n",
      "dirIncome        0.445088\n",
      "dirGender          female\n",
      "year                 2013\n",
      "month                   5\n",
      "genre              comedy\n",
      "numTheatres         445.0\n",
      "Name: 15, dtype: object\n"
     ]
    }
   ],
   "source": [
    "showRow = df.iloc[15]\n",
    "print(showRow)"
   ]
  },
  {
   "cell_type": "markdown",
   "metadata": {},
   "source": [
    "### Question4. Retrieving multiple rows (pg. 125 – 128) (? \\ 4 points )\n",
    "Print the data in rows 99 to 104"
   ]
  },
  {
   "cell_type": "code",
   "execution_count": 6,
   "metadata": {},
   "outputs": [
    {
     "name": "stdout",
     "output_type": "stream",
     "text": [
      "     Unnamed: 0      boxoff    prodcost  dirIncome dirGender  year  month  \\\n",
      "99           99  212.019583   39.953228   0.228733      male  2015      7   \n",
      "100         100  102.464505   22.785555   3.365736      male  2014      8   \n",
      "101         101  191.060229   50.967975   4.204352      male  2015      1   \n",
      "102         102  263.188313   83.574050   4.780653      male  2012      8   \n",
      "103         103  115.448968   78.839090   3.579342      male  2014      8   \n",
      "104         104  118.622763  140.163830   5.745664      male  2015     12   \n",
      "\n",
      "         genre  numTheatres  \n",
      "99   adventure        304.0  \n",
      "100     comedy        195.0  \n",
      "101     action        354.0  \n",
      "102     action        538.0  \n",
      "103     action        310.0  \n",
      "104  adventure        210.0  \n"
     ]
    }
   ],
   "source": [
    "rangeRow = df.iloc[99:105]\n",
    "print(rangeRow)"
   ]
  },
  {
   "cell_type": "markdown",
   "metadata": {},
   "source": [
    "### Question5. Retrieve the rows that meet a specific condition (pg. 126 – 127) (? \\ 7 points)\n",
    "Print the data entries where the director’s income is greater than or equal to 5 million dollars"
   ]
  },
  {
   "cell_type": "code",
   "execution_count": 7,
   "metadata": {},
   "outputs": [
    {
     "name": "stdout",
     "output_type": "stream",
     "text": [
      "     Unnamed: 0      boxoff    prodcost  dirIncome dirGender  year  month  \\\n",
      "104         104  118.622763  140.163830   5.745664      male  2015     12   \n",
      "110         110  160.135229   94.474355   5.219081      male  2015      4   \n",
      "117         117  204.895531  147.786519   5.029115      male  2012     12   \n",
      "153         153  113.908214   14.661172   5.058337      male  2015     10   \n",
      "159         159  142.697967  126.748095   5.499477      male  2012     11   \n",
      "189         189  211.971373   96.262110   5.277638      male  2015     12   \n",
      "227         227  244.326897   52.699310   5.804698      male  2013     12   \n",
      "239         239  391.434752   75.710045   5.875102      male  2015      8   \n",
      "\n",
      "         genre  numTheatres  \n",
      "104  adventure        210.0  \n",
      "110  adventure        168.0  \n",
      "117     action        262.0  \n",
      "153      other        212.0  \n",
      "159     action        383.0  \n",
      "189  adventure        568.0  \n",
      "227     comedy        610.0  \n",
      "239     action        802.0  \n"
     ]
    }
   ],
   "source": [
    "showLargeInc = df[df['dirIncome'] > 5]\n",
    "print(showLargeInc)"
   ]
  },
  {
   "cell_type": "markdown",
   "metadata": {},
   "source": [
    "### Question6. creating a new column (pg. 128 – 129 and pg. 261) (? \\ 4 points)\n",
    "Add a new column to the dataframe (profit). This column should be the total box office income minus the production cost."
   ]
  },
  {
   "cell_type": "code",
   "execution_count": 8,
   "metadata": {},
   "outputs": [
    {
     "name": "stdout",
     "output_type": "stream",
     "text": [
      "0       43.905646\n",
      "1      106.499408\n",
      "2      208.733401\n",
      "3       55.602844\n",
      "4       89.628307\n",
      "          ...    \n",
      "245    114.487850\n",
      "246     78.861488\n",
      "247    116.142533\n",
      "248    183.123485\n",
      "249     75.223441\n",
      "Name: profit, Length: 250, dtype: float64\n"
     ]
    }
   ],
   "source": [
    "df['profit'] = df['boxoff'] - df['prodcost']\n",
    "print(df['profit'])"
   ]
  },
  {
   "cell_type": "markdown",
   "metadata": {},
   "source": [
    "## Task3: Descriptive statistics (? \\ 40 points)"
   ]
  },
  {
   "cell_type": "markdown",
   "metadata": {},
   "source": [
    "### Question1. For the director Income column, print the median, mean, minimal value and maximal value (? \\ 16 points)"
   ]
  },
  {
   "cell_type": "markdown",
   "metadata": {},
   "source": [
    "#### median for directorIncome column (? \\ 4 points)"
   ]
  },
  {
   "cell_type": "code",
   "execution_count": 9,
   "metadata": {},
   "outputs": [
    {
     "name": "stdout",
     "output_type": "stream",
     "text": [
      "median director income is: 1.950844833985145\n"
     ]
    }
   ],
   "source": [
    "medianDInc = df['dirIncome'].median()\n",
    "print(f'median director income is: {medianDInc}')"
   ]
  },
  {
   "cell_type": "markdown",
   "metadata": {},
   "source": [
    "#### mean for directorIncome column (? \\ 4 points)"
   ]
  },
  {
   "cell_type": "code",
   "execution_count": 10,
   "metadata": {},
   "outputs": [
    {
     "name": "stdout",
     "output_type": "stream",
     "text": [
      "mean director income is: 2.1282219455941407\n"
     ]
    }
   ],
   "source": [
    "meanDInc = df['dirIncome'].mean()\n",
    "print(f'mean director income is: {meanDInc}')"
   ]
  },
  {
   "cell_type": "markdown",
   "metadata": {},
   "source": [
    "#### minimum for directorIncome column (? \\ 4 points)"
   ]
  },
  {
   "cell_type": "code",
   "execution_count": 11,
   "metadata": {},
   "outputs": [
    {
     "name": "stdout",
     "output_type": "stream",
     "text": [
      "min director income is: 0.2287332260825104\n"
     ]
    }
   ],
   "source": [
    "minDInc = df['dirIncome'].min()\n",
    "print(f'min director income is: {minDInc}')"
   ]
  },
  {
   "cell_type": "markdown",
   "metadata": {},
   "source": [
    "#### maximum dor directorIncome column (? \\ 4 points)"
   ]
  },
  {
   "cell_type": "code",
   "execution_count": 12,
   "metadata": {},
   "outputs": [
    {
     "name": "stdout",
     "output_type": "stream",
     "text": [
      "max director income is: 5.875101572481936\n"
     ]
    }
   ],
   "source": [
    "maxDInc = df['dirIncome'].max()\n",
    "print(f'max director income is: {maxDInc}')"
   ]
  },
  {
   "cell_type": "markdown",
   "metadata": {},
   "source": [
    "### Question2. Written answer: From these values, what can you guess about the Skewness of the distribution? Justify your answer (? \\ 8 points)"
   ]
  },
  {
   "cell_type": "code",
   "execution_count": 13,
   "metadata": {},
   "outputs": [],
   "source": [
    "#Given these values, the skewness of the distribution is most likely right skewed since the mean is greater than the median in this instance."
   ]
  },
  {
   "cell_type": "markdown",
   "metadata": {},
   "source": [
    "### Question3. Print out the data for the movie that has the highest box-office income (? \\ 16 points)\n",
    "(Hint: you may first have to determine the maximum value in the box-office column and then use retrieval strategies to print out all the data)"
   ]
  },
  {
   "cell_type": "code",
   "execution_count": 14,
   "metadata": {},
   "outputs": [
    {
     "name": "stdout",
     "output_type": "stream",
     "text": [
      "     Unnamed: 0      boxoff    prodcost  dirIncome dirGender  year  month  \\\n",
      "172         172  465.247739  109.604718   2.303829      male  2014     12   \n",
      "\n",
      "      genre  numTheatres      profit  \n",
      "172  action        523.0  355.643022  \n"
     ]
    }
   ],
   "source": [
    "#Find out the maximum value of the boxoff column and then take the row with that value and print it to the screen\n",
    "maxBOff = df['boxoff'].max()\n",
    "showMaxBOff = df[df['boxoff'] == maxBOff]\n",
    "print(showMaxBOff)"
   ]
  },
  {
   "cell_type": "markdown",
   "metadata": {},
   "source": [
    "## Task 4: plotting histograms and boxplots (28 \\ 30 points)\n",
    "### Preliminaries\n",
    "In order to set up your notebook environment so it includes figures inline write the following code:"
   ]
  },
  {
   "cell_type": "code",
   "execution_count": 15,
   "metadata": {},
   "outputs": [],
   "source": [
    "import matplotlib\n",
    "matplotlib.use('TkAgg')\n",
    "import matplotlib.pyplot as plt\n",
    "%matplotlib inline\n"
   ]
  },
  {
   "cell_type": "markdown",
   "metadata": {},
   "source": [
    "### Question1. Create a histogram of director Income (pgs. 238 – 239). Choose the number of bins so that the plot is informative. (8 / 10 points)\n",
    "\n",
    "Written response: Justify why you chose this number."
   ]
  },
  {
   "cell_type": "code",
   "execution_count": 16,
   "metadata": {},
   "outputs": [
    {
     "data": {
      "text/plain": [
       "Text(0, 0.5, 'Number of Directors')"
      ]
     },
     "execution_count": 16,
     "metadata": {},
     "output_type": "execute_result"
    },
    {
     "data": {
      "image/png": "[encoded data removed]",
      "text/plain": [
       "<Figure size 432x288 with 1 Axes>"
      ]
     },
     "metadata": {
      "needs_background": "light"
     },
     "output_type": "display_data"
    }
   ],
   "source": [
    "df['dirIncome'].hist(bins = 60)\n",
    "plt.xlabel('Income')\n",
    "plt.ylabel('Number of Directors')"
   ]
  },
  {
   "cell_type": "markdown",
   "metadata": {},
   "source": [
    "Figure 1. Histogram of the director income column 'dirIncome' from the dataset."
   ]
  },
  {
   "cell_type": "markdown",
   "metadata": {},
   "source": [
    "### Question2. Create a boxplot of director Income (plt.boxplot) (? \\ 6 points)"
   ]
  },
  {
   "cell_type": "code",
   "execution_count": 17,
   "metadata": {},
   "outputs": [
    {
     "data": {
      "text/plain": [
       "Text(0, 0.5, 'Income')"
      ]
     },
     "execution_count": 17,
     "metadata": {},
     "output_type": "execute_result"
    },
    {
     "data": {
      "image/png": "[encoded data removed]",
      "text/plain": [
       "<Figure size 432x288 with 1 Axes>"
      ]
     },
     "metadata": {
      "needs_background": "light"
     },
     "output_type": "display_data"
    }
   ],
   "source": [
    "plt.boxplot(df['dirIncome'])\n",
    "plt.xlabel('Number of Directors')\n",
    "plt.ylabel('Income')"
   ]
  },
  {
   "cell_type": "markdown",
   "metadata": {},
   "source": [
    "Figure 2. Boxplot of the director income column 'dirIncome' from the dataset."
   ]
  },
  {
   "cell_type": "markdown",
   "metadata": {},
   "source": [
    "### Question3. Create a violinplot of director income (plt.violinplot) (? \\ 6 points )"
   ]
  },
  {
   "cell_type": "code",
   "execution_count": 18,
   "metadata": {},
   "outputs": [
    {
     "data": {
      "text/plain": [
       "Text(0, 0.5, 'Income')"
      ]
     },
     "execution_count": 18,
     "metadata": {},
     "output_type": "execute_result"
    },
    {
     "data": {
      "image/png": "[encoded data removed]",
      "text/plain": [
       "<Figure size 432x288 with 1 Axes>"
      ]
     },
     "metadata": {
      "needs_background": "light"
     },
     "output_type": "display_data"
    }
   ],
   "source": [
    "plt.violinplot(df['dirIncome'])\n",
    "plt.xlabel('Director Density')\n",
    "plt.ylabel('Income')"
   ]
  },
  {
   "cell_type": "markdown",
   "metadata": {},
   "source": [
    "Figure 3. Violin plot of the director income column 'dirIncome' from the dataset."
   ]
  },
  {
   "cell_type": "markdown",
   "metadata": {},
   "source": [
    "### Question4. written response: From the three graphs, describe the distribution of director income in terms of range, skewness, and outliers. Which visualization shows which aspects best? (? \\ 8 points)"
   ]
  },
  {
   "cell_type": "code",
   "execution_count": 19,
   "metadata": {},
   "outputs": [],
   "source": [
    "#Range of Director Income:\n",
    "#This is best visualized in the violin plot where is shows the full range of values and where the density lies.  Given this violin plot, the range is from near-zero to almost six but the majority of this range of values lies within the values of 1 to 3.\n",
    "\n",
    "#Skewness of Director Income:\n",
    "#This is best visualized in the histogram as we can trace the curve of the data visually.  Based on the histogram, the skewness of the data is right-skewed as the majority of values is on the left side of the histogram.\n",
    "\n",
    "#Outliers of Director Income:\n",
    "#The best visualization of outliers for director income comes from the boxplot, from there we can see that the outliers are values from 5 to 6 as they are the ones outside the whiskers.\n",
    "#This can also been see with the histogram albeit less clear by looking at how sparse the data is around the values of 5 and 6."
   ]
  }
 ],
 "metadata": {
  "kernelspec": {
   "display_name": "Python 3",
   "language": "python",
   "name": "python3"
  },
  "language_info": {
   "codemirror_mode": {
    "name": "ipython",
    "version": 3
   },
   "file_extension": ".py",
   "mimetype": "text/x-python",
   "name": "python",
   "nbconvert_exporter": "python",
   "pygments_lexer": "ipython3",
   "version": "3.8.8"
  }
 },
 "nbformat": 4,
 "nbformat_minor": 2
}

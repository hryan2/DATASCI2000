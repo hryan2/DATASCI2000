{
 "cells": [
  {
   "attachments": {},
   "cell_type": "markdown",
   "metadata": {},
   "source": [
    "# Assignment 2\n",
    "### Learning Outcomes \n",
    "By completing this assignment, you will gain and demonstrate skills relating to \n",
    "- working within the python environment  \n",
    "- visualizing of numerical data continued \n",
    "- tabulation and plotting of discrete data \n",
    "- Calculating joint, marginal, and conditional probabilities  \n",
    "- Summarizing and plotting numerical data by group \n",
    "\n",
    "### Problem Description\n",
    "As a data scientist for a Hollywood investment company you have been charged with creating a summary of the last 250 movies so that your boss can have a deeper understanding of the movie industry. The dataset that you will be working with includes 8 different variables: \n",
    "- North American box office revenue  \n",
    "- Cost to produce the movie \n",
    "- Income of the director \n",
    "- Gender of the director \n",
    "- Year of release \n",
    "- Month of release \n",
    "- Movie genre \n",
    "- Number of theaters at release \n",
    "\n",
    "### General Marking criteria: \n",
    "- Does the program behave according to specifications?\n",
    "- Are you using appropriate data structures?\n",
    "- Is the output according to specifications?\n",
    "- Are all questions answered fully? Written responses must be answered in full English sentences.\n",
    "- Comments for pieces of code that are longer than few line \n",
    "- All figures require axis labels + a caption\n",
    "- Use Python coding conventions and good programming techniques, for example:\n",
    "    * meaningful variable names\n",
    "    * conventions for naming variables and constants\n",
    "    * Use of constants where appropriate\n",
    "    * Readability: indention, white space, consistency."
   ]
  },
  {
   "cell_type": "markdown",
   "metadata": {},
   "source": [
    "## Task 1: Plotting histograms II (Subplots) (? / 15 points)\n",
    "In order to set up your notebook environment so it includes figures inline write the following code <br>\n",
    "\n",
    "import matplotlib <br>\n",
    "matplotlib.use('TkAgg') <br>\n",
    "import matplotlib.pyplot as plt <br> \n",
    "%matplotlib inline <br>"
   ]
  },
  {
   "cell_type": "code",
   "execution_count": 154,
   "metadata": {},
   "outputs": [],
   "source": [
    "import matplotlib\n",
    "matplotlib.use('TkAgg')\n",
    "import matplotlib.pyplot as plt\n",
    "%matplotlib inline\n",
    "\n",
    "import pandas as pd\n",
    "import numpy as np\n",
    "import seaborn as sns"
   ]
  },
  {
   "cell_type": "markdown",
   "metadata": {},
   "source": [
    "### Question1. Load the movieDataset and calculate the new column \"profit\" as in the previous assignment (? / 2 points)"
   ]
  },
  {
   "cell_type": "code",
   "execution_count": 155,
   "metadata": {},
   "outputs": [
    {
     "name": "stdout",
     "output_type": "stream",
     "text": [
      "0       43.905646\n",
      "1      106.499408\n",
      "2      208.733401\n",
      "3       55.602844\n",
      "4       89.628307\n",
      "          ...    \n",
      "245    114.487850\n",
      "246     78.861488\n",
      "247    116.142533\n",
      "248    183.123485\n",
      "249     75.223441\n",
      "Name: profit, Length: 250, dtype: float64\n"
     ]
    }
   ],
   "source": [
    "df = pd.read_csv('movieDataset.csv')\n",
    "\n",
    "df['profit'] = df['boxoff'] - df['prodcost']\n",
    "print(df['profit'])"
   ]
  },
  {
   "cell_type": "markdown",
   "metadata": {},
   "source": [
    "### Question2. Generate a new figure with an array of 6 subplots (2 rows and 3 columns recommended, see pages 220-223). In the subplots, provide a histogram for the variables boxoff, prodcost,  dirIncome, release month, year released, profit. For each variable, choose an appropriate number of bins (? / 4 points)"
   ]
  },
  {
   "cell_type": "code",
   "execution_count": 156,
   "metadata": {},
   "outputs": [
    {
     "name": "stdout",
     "output_type": "stream",
     "text": [
      "(2, 3)\n"
     ]
    },
    {
     "data": {
      "text/plain": [
       "Text(0, 0.5, 'count')"
      ]
     },
     "execution_count": 156,
     "metadata": {},
     "output_type": "execute_result"
    },
    {
     "data": {
      "image/png": "[encoded data removed]",
      "text/plain": [
       "<Figure size 1080x720 with 6 Axes>"
      ]
     },
     "metadata": {
      "needs_background": "light"
     },
     "output_type": "display_data"
    }
   ],
   "source": [
    "fig, axes = plt.subplots(nrows = 2, ncols = 3, figsize = (15, 10))\n",
    "print(axes.shape)\n",
    "\n",
    "axes[0,0].hist(df['boxoff'], bins = 30)\n",
    "axes[0,0].set_xlabel('boxoff')\n",
    "axes[0,0].set_ylabel('count')\n",
    "\n",
    "axes[0,1].hist(df['prodcost'], bins = 30)\n",
    "axes[0,1].set_xlabel('prodcost')\n",
    "axes[0,1].set_ylabel('count')\n",
    "\n",
    "axes[0,2].hist(df['dirIncome'], bins = 30)\n",
    "axes[0,2].set_xlabel('dirIncome')\n",
    "axes[0,2].set_ylabel('count')\n",
    "\n",
    "axes[1,0].hist(df['month'], bins = 12)\n",
    "axes[1,0].set_xlabel('month')\n",
    "axes[1,0].set_ylabel('count')\n",
    "\n",
    "axes[1,1].hist(df['year'], bins = 5)\n",
    "axes[1,1].set_xlabel('year')\n",
    "axes[1,1].set_ylabel('count')\n",
    "\n",
    "axes[1,2].hist(df['profit'], bins = 30)\n",
    "axes[1,2].set_xlabel('profit')\n",
    "axes[1,2].set_ylabel('count')"
   ]
  },
  {
   "cell_type": "markdown",
   "metadata": {},
   "source": [
    "Figure 1: Array of 6 subplots for variables boxoff, prodcost, dirIncome, month, year, and profit."
   ]
  },
  {
   "cell_type": "markdown",
   "metadata": {},
   "source": [
    "### Question 3. Written response: Justify the number of bins chosen for each variable. ( ? / 3 points)"
   ]
  },
  {
   "cell_type": "markdown",
   "metadata": {},
   "source": [
    "1 - 3. boxoff, prodcost, and dirIncome have bins equal to 30 since they all have very similar shapes and this bin represented the best shape of the data while smaller values didn't reveal the full shape\n",
    "4. Month has bins equal to 12 since any higher bins would create a comb-like pattern and any lower would hide some of the shape of the data\n",
    "5. Year has bins equal to 5 since this was the value that best represented the shape of the data since any higher would separate each bar too much.\n",
    "6. Profit has bins equal to 30 since it best revealed all of the data and showed the distribution well."
   ]
  },
  {
   "cell_type": "markdown",
   "metadata": {},
   "source": [
    "### Question 4: Describe the shape of the distribution for each variable, including the number of modes and the shape (symmetric, skew, uniform?).  (? / 6 points)"
   ]
  },
  {
   "cell_type": "markdown",
   "metadata": {},
   "source": [
    "1. Unimodal with right skew (boxoff)\n",
    "2. Bimodal with right skew (prodcost)\n",
    "3. Unimodal with right skew (dirIncome)\n",
    "4. Bimodal with left skew (month)\n",
    "5. Bimodal with slight left skew (year)\n",
    "6. Unimodal with symmetric (profit)"
   ]
  },
  {
   "cell_type": "markdown",
   "metadata": {},
   "source": [
    "## Task 2: Tabulating and visualizing categorical data (pg. 24-30 and pg 250-256) (? / 20 points)"
   ]
  },
  {
   "cell_type": "markdown",
   "metadata": {},
   "source": [
    "### Question1. Create a contingency table of director gender (rows) by genre (columns) without the marginal sums. You may normalize the table by rows or columns. Print to the screen. (? / 4 points)"
   ]
  },
  {
   "cell_type": "code",
   "execution_count": 157,
   "metadata": {},
   "outputs": [
    {
     "data": {
      "text/html": [
       "<div>\n",
       "<style scoped>\n",
       "    .dataframe tbody tr th:only-of-type {\n",
       "        vertical-align: middle;\n",
       "    }\n",
       "\n",
       "    .dataframe tbody tr th {\n",
       "        vertical-align: top;\n",
       "    }\n",
       "\n",
       "    .dataframe thead th {\n",
       "        text-align: right;\n",
       "    }\n",
       "</style>\n",
       "<table border=\"1\" class=\"dataframe\">\n",
       "  <thead>\n",
       "    <tr style=\"text-align: right;\">\n",
       "      <th>genre</th>\n",
       "      <th>action</th>\n",
       "      <th>adventure</th>\n",
       "      <th>comedy</th>\n",
       "      <th>drama</th>\n",
       "      <th>other</th>\n",
       "    </tr>\n",
       "    <tr>\n",
       "      <th>dirGender</th>\n",
       "      <th></th>\n",
       "      <th></th>\n",
       "      <th></th>\n",
       "      <th></th>\n",
       "      <th></th>\n",
       "    </tr>\n",
       "  </thead>\n",
       "  <tbody>\n",
       "    <tr>\n",
       "      <th>female</th>\n",
       "      <td>0.243243</td>\n",
       "      <td>0.162162</td>\n",
       "      <td>0.351351</td>\n",
       "      <td>0.135135</td>\n",
       "      <td>0.108108</td>\n",
       "    </tr>\n",
       "    <tr>\n",
       "      <th>male</th>\n",
       "      <td>0.225352</td>\n",
       "      <td>0.272300</td>\n",
       "      <td>0.164319</td>\n",
       "      <td>0.145540</td>\n",
       "      <td>0.192488</td>\n",
       "    </tr>\n",
       "  </tbody>\n",
       "</table>\n",
       "</div>"
      ],
      "text/plain": [
       "genre        action  adventure    comedy     drama     other\n",
       "dirGender                                                   \n",
       "female     0.243243   0.162162  0.351351  0.135135  0.108108\n",
       "male       0.225352   0.272300  0.164319  0.145540  0.192488"
      ]
     },
     "metadata": {},
     "output_type": "display_data"
    }
   ],
   "source": [
    "con_table = pd.crosstab(df['dirGender'], df['genre'], normalize = 'index')\n",
    "display(con_table)"
   ]
  },
  {
   "cell_type": "markdown",
   "metadata": {},
   "source": [
    "### Question2. Plot the genre counts by director gender as a grouped bar chart (? / 3 points)"
   ]
  },
  {
   "cell_type": "code",
   "execution_count": 158,
   "metadata": {},
   "outputs": [
    {
     "data": {
      "text/plain": [
       "<AxesSubplot:xlabel='dirGender'>"
      ]
     },
     "execution_count": 158,
     "metadata": {},
     "output_type": "execute_result"
    },
    {
     "data": {
      "image/png": "[encoded data removed]",
      "text/plain": [
       "<Figure size 432x288 with 1 Axes>"
      ]
     },
     "metadata": {
      "needs_background": "light"
     },
     "output_type": "display_data"
    }
   ],
   "source": [
    "con_table.plot(kind = 'bar')"
   ]
  },
  {
   "cell_type": "markdown",
   "metadata": {},
   "source": [
    "Figure 2: Bar plot for the contingency table of dirGender and genre"
   ]
  },
  {
   "cell_type": "markdown",
   "metadata": {},
   "source": [
    "### Question3. Make a Figure with 2 subplots. Plot the genre counts by director gender as a grouped barplot in one subplot, and as a stacked bar chart in the other subplot. (? / 3 points)"
   ]
  },
  {
   "cell_type": "code",
   "execution_count": 159,
   "metadata": {},
   "outputs": [
    {
     "data": {
      "text/plain": [
       "Text(0.5, 1.0, 'Stacked Barplot for dirGender and genre')"
      ]
     },
     "execution_count": 159,
     "metadata": {},
     "output_type": "execute_result"
    },
    {
     "data": {
      "image/png": "[encoded data removed]",
      "text/plain": [
       "<Figure size 1080x720 with 2 Axes>"
      ]
     },
     "metadata": {
      "needs_background": "light"
     },
     "output_type": "display_data"
    }
   ],
   "source": [
    "fig, axes = plt.subplots(2, figsize = (15, 10))\n",
    "\n",
    "con_table.plot(kind = 'bar', ax = axes[0])\n",
    "axes[0].set_title('Grouped Barplot for dirGender and genre')\n",
    "\n",
    "con_table.plot(kind = 'bar', stacked = True, ax = axes[1])\n",
    "axes[1].set_title('Stacked Barplot for dirGender and genre')"
   ]
  },
  {
   "cell_type": "markdown",
   "metadata": {},
   "source": [
    "Figure 3: Grouped bar plot and Stacked bar plot for dirGender and genre"
   ]
  },
  {
   "cell_type": "markdown",
   "metadata": {},
   "source": [
    "### Question4. Generate a table of director Gender (rows) and genre (columns), normalized by the row-marginal counts of male and female director, such that you have conditional probabilities of movie genre, given the gender of the director. Print the table and make a stacked barplot. (? / 3 points)"
   ]
  },
  {
   "cell_type": "code",
   "execution_count": 160,
   "metadata": {},
   "outputs": [
    {
     "data": {
      "text/html": [
       "<div>\n",
       "<style scoped>\n",
       "    .dataframe tbody tr th:only-of-type {\n",
       "        vertical-align: middle;\n",
       "    }\n",
       "\n",
       "    .dataframe tbody tr th {\n",
       "        vertical-align: top;\n",
       "    }\n",
       "\n",
       "    .dataframe thead th {\n",
       "        text-align: right;\n",
       "    }\n",
       "</style>\n",
       "<table border=\"1\" class=\"dataframe\">\n",
       "  <thead>\n",
       "    <tr style=\"text-align: right;\">\n",
       "      <th>genre</th>\n",
       "      <th>action</th>\n",
       "      <th>adventure</th>\n",
       "      <th>comedy</th>\n",
       "      <th>drama</th>\n",
       "      <th>other</th>\n",
       "    </tr>\n",
       "    <tr>\n",
       "      <th>dirGender</th>\n",
       "      <th></th>\n",
       "      <th></th>\n",
       "      <th></th>\n",
       "      <th></th>\n",
       "      <th></th>\n",
       "    </tr>\n",
       "  </thead>\n",
       "  <tbody>\n",
       "    <tr>\n",
       "      <th>female</th>\n",
       "      <td>0.243243</td>\n",
       "      <td>0.162162</td>\n",
       "      <td>0.351351</td>\n",
       "      <td>0.135135</td>\n",
       "      <td>0.108108</td>\n",
       "    </tr>\n",
       "    <tr>\n",
       "      <th>male</th>\n",
       "      <td>0.225352</td>\n",
       "      <td>0.272300</td>\n",
       "      <td>0.164319</td>\n",
       "      <td>0.145540</td>\n",
       "      <td>0.192488</td>\n",
       "    </tr>\n",
       "    <tr>\n",
       "      <th>All</th>\n",
       "      <td>0.228000</td>\n",
       "      <td>0.256000</td>\n",
       "      <td>0.192000</td>\n",
       "      <td>0.144000</td>\n",
       "      <td>0.180000</td>\n",
       "    </tr>\n",
       "  </tbody>\n",
       "</table>\n",
       "</div>"
      ],
      "text/plain": [
       "genre        action  adventure    comedy     drama     other\n",
       "dirGender                                                   \n",
       "female     0.243243   0.162162  0.351351  0.135135  0.108108\n",
       "male       0.225352   0.272300  0.164319  0.145540  0.192488\n",
       "All        0.228000   0.256000  0.192000  0.144000  0.180000"
      ]
     },
     "metadata": {},
     "output_type": "display_data"
    },
    {
     "data": {
      "text/plain": [
       "<AxesSubplot:xlabel='dirGender'>"
      ]
     },
     "execution_count": 160,
     "metadata": {},
     "output_type": "execute_result"
    },
    {
     "data": {
      "image/png": "[encoded data removed]",
      "text/plain": [
       "<Figure size 432x288 with 1 Axes>"
      ]
     },
     "metadata": {
      "needs_background": "light"
     },
     "output_type": "display_data"
    }
   ],
   "source": [
    "gender_table = pd.crosstab(df['dirGender'], df['genre'], margins = True, normalize = 'index')\n",
    "display(gender_table)\n",
    "\n",
    "gender_table.plot(kind = 'bar', stacked = True)"
   ]
  },
  {
   "cell_type": "markdown",
   "metadata": {},
   "source": [
    "Figure 4: Normalized Stacked bar plot for dirGender and genre"
   ]
  },
  {
   "cell_type": "markdown",
   "metadata": {},
   "source": [
    "### Question5. Generate a table of movie genre (rows) and director gender (columns), normalized by the row-marginal counts for each genre, such that you have conditional probabilities of the director gender, given the movie genre.  Print the table and make a stacked barplot. (? / 3 points) (? / 3 points)"
   ]
  },
  {
   "cell_type": "code",
   "execution_count": 161,
   "metadata": {},
   "outputs": [
    {
     "data": {
      "text/html": [
       "<div>\n",
       "<style scoped>\n",
       "    .dataframe tbody tr th:only-of-type {\n",
       "        vertical-align: middle;\n",
       "    }\n",
       "\n",
       "    .dataframe tbody tr th {\n",
       "        vertical-align: top;\n",
       "    }\n",
       "\n",
       "    .dataframe thead th {\n",
       "        text-align: right;\n",
       "    }\n",
       "</style>\n",
       "<table border=\"1\" class=\"dataframe\">\n",
       "  <thead>\n",
       "    <tr style=\"text-align: right;\">\n",
       "      <th>dirGender</th>\n",
       "      <th>female</th>\n",
       "      <th>male</th>\n",
       "    </tr>\n",
       "    <tr>\n",
       "      <th>genre</th>\n",
       "      <th></th>\n",
       "      <th></th>\n",
       "    </tr>\n",
       "  </thead>\n",
       "  <tbody>\n",
       "    <tr>\n",
       "      <th>action</th>\n",
       "      <td>0.157895</td>\n",
       "      <td>0.842105</td>\n",
       "    </tr>\n",
       "    <tr>\n",
       "      <th>adventure</th>\n",
       "      <td>0.093750</td>\n",
       "      <td>0.906250</td>\n",
       "    </tr>\n",
       "    <tr>\n",
       "      <th>comedy</th>\n",
       "      <td>0.270833</td>\n",
       "      <td>0.729167</td>\n",
       "    </tr>\n",
       "    <tr>\n",
       "      <th>drama</th>\n",
       "      <td>0.138889</td>\n",
       "      <td>0.861111</td>\n",
       "    </tr>\n",
       "    <tr>\n",
       "      <th>other</th>\n",
       "      <td>0.088889</td>\n",
       "      <td>0.911111</td>\n",
       "    </tr>\n",
       "    <tr>\n",
       "      <th>All</th>\n",
       "      <td>0.148000</td>\n",
       "      <td>0.852000</td>\n",
       "    </tr>\n",
       "  </tbody>\n",
       "</table>\n",
       "</div>"
      ],
      "text/plain": [
       "dirGender    female      male\n",
       "genre                        \n",
       "action     0.157895  0.842105\n",
       "adventure  0.093750  0.906250\n",
       "comedy     0.270833  0.729167\n",
       "drama      0.138889  0.861111\n",
       "other      0.088889  0.911111\n",
       "All        0.148000  0.852000"
      ]
     },
     "metadata": {},
     "output_type": "display_data"
    },
    {
     "data": {
      "text/plain": [
       "<AxesSubplot:xlabel='genre'>"
      ]
     },
     "execution_count": 161,
     "metadata": {},
     "output_type": "execute_result"
    },
    {
     "data": {
      "image/png": "[encoded data removed]",
      "text/plain": [
       "<Figure size 432x288 with 1 Axes>"
      ]
     },
     "metadata": {
      "needs_background": "light"
     },
     "output_type": "display_data"
    }
   ],
   "source": [
    "genre_table = pd.crosstab(df['genre'], df['dirGender'], margins = True, normalize = 'index')\n",
    "display(genre_table)\n",
    "    \n",
    "genre_table.plot(kind = 'bar', stacked = True)"
   ]
  },
  {
   "cell_type": "markdown",
   "metadata": {},
   "source": [
    "Figure 5: Normalized Stacked bar plot for genre and dirGender"
   ]
  },
  {
   "cell_type": "markdown",
   "metadata": {},
   "source": [
    "### Question6. Written response: Compare the 2 plots from questions 4 and 5. For each plot, describe which aspect of the data can be most readily seen (? / 4 points)"
   ]
  },
  {
   "cell_type": "markdown",
   "metadata": {},
   "source": [
    "In the first plot, it is easy to read the distribution of directors in each genre by the gender of the director.  In the second plot, it is much more easy to read the disparity between the male and female directors in each genre of film."
   ]
  },
  {
   "cell_type": "markdown",
   "metadata": {},
   "source": [
    "## Task 3: Probabilities (? / 20 points)"
   ]
  },
  {
   "cell_type": "markdown",
   "metadata": {},
   "source": [
    "For each of the questions in this task, you  should show the formula you used to compute the probability. <br>\n",
    "For each of the tasks in this section, print the answer in a full sentence. For instance, your output should not just be a value but instead: <br>\n",
    "__Probability of movie being sci-fi given that the gender of the director is male, is 0.602__ <br>\n",
    "Using the contingency tables, compute and print:"
   ]
  },
  {
   "cell_type": "markdown",
   "metadata": {},
   "source": [
    "### Question1. The marginal probability of a movie being an action movie (? / 2 points)"
   ]
  },
  {
   "cell_type": "code",
   "execution_count": 162,
   "metadata": {},
   "outputs": [],
   "source": [
    "#The marginal probability of a movie being an action movie is 0.228. \n",
    "#Formula: total number of action movies / total number of all movies = 57  /250 = 0.228"
   ]
  },
  {
   "cell_type": "markdown",
   "metadata": {},
   "source": [
    "### Question2. the marginal probability of a movie being a comedy (? / 2 points)"
   ]
  },
  {
   "cell_type": "code",
   "execution_count": 163,
   "metadata": {},
   "outputs": [],
   "source": [
    "#The marginal probability of a movie being a comedy is 0.192.\n",
    "#Formula: total number of comedy movies / total number of all movies = 48 / 250 = 0.192"
   ]
  },
  {
   "cell_type": "markdown",
   "metadata": {},
   "source": [
    "### Question3. the marginal probability of the director being female (? / 2 points)"
   ]
  },
  {
   "cell_type": "code",
   "execution_count": 164,
   "metadata": {},
   "outputs": [],
   "source": [
    "#The marginal probability of a director being female is 0.148.\n",
    "#Formula: total number of female directors / total number of all directors = 37 / 250 = 0.148"
   ]
  },
  {
   "cell_type": "markdown",
   "metadata": {},
   "source": [
    "### Question4. the conditional probability of the movie being an action movie given that the director’s gender is female (? / 2 points)"
   ]
  },
  {
   "cell_type": "code",
   "execution_count": 165,
   "metadata": {},
   "outputs": [],
   "source": [
    "#The conditional probability of a movie being an action movie given that the director is female is 0.243.\n",
    "#Formula: P(action movie | female director) = P(action movie and female director) / P(female director) = 9 / 37 = 0.243"
   ]
  },
  {
   "cell_type": "markdown",
   "metadata": {},
   "source": [
    "### Question5. the conditional probability of the movie being an action movie given that the director’s gender is male (? / 2 points)"
   ]
  },
  {
   "cell_type": "code",
   "execution_count": 166,
   "metadata": {},
   "outputs": [],
   "source": [
    "#The conditional probability of a movie being an action movie given that the director is male is 0.225.\n",
    "#Formula: P(action movie | male director) = P(action movie and male director) / P(male director) = 48 / 213 = 0.225"
   ]
  },
  {
   "cell_type": "markdown",
   "metadata": {},
   "source": [
    "### Question6. the conditional probability of the director’s gender being female given that the movie is an action movie (? / 2 points)"
   ]
  },
  {
   "cell_type": "code",
   "execution_count": 167,
   "metadata": {},
   "outputs": [],
   "source": [
    "#The conditional probability of a director being female given that the movie is an action movie is 0.158.\n",
    "#Formula: P(female director | action movie) = P(female director and action movie) / P(action movie) = 9 / 57 = 0.158"
   ]
  },
  {
   "cell_type": "markdown",
   "metadata": {},
   "source": [
    "### Question7. the conditional probability of the director’s gender being male knowing that the movie is an action movie (? / 2 points)"
   ]
  },
  {
   "cell_type": "code",
   "execution_count": 168,
   "metadata": {},
   "outputs": [],
   "source": [
    "#The conditional probability of a director being male given that the movie is an action movie is 0.842.\n",
    "#Formula: P(male director | action movie) = P(male director and action movie) / P(action movie) = 48 / 57 = 0.842"
   ]
  },
  {
   "cell_type": "markdown",
   "metadata": {},
   "source": [
    "### Question8. How does the probability of the director being female change from when you don’t know what the movie is to when you know that the movie is an action movie?  (? / 2 points)"
   ]
  },
  {
   "cell_type": "markdown",
   "metadata": {},
   "source": [
    "The probability changes from a lower number to a higher number most likely due to the distribution of female directors in each category compared to the overall total number of female directors.  In other words, action movies are likely to have a higher distribution of female directors to the total number of actions movies compared to that of the total number of female directors in all movies to the total number of all movies."
   ]
  },
  {
   "cell_type": "markdown",
   "metadata": {},
   "source": [
    "### Question9. What is the joint probability of a movie being an action movie AND being directed by a woman? (? / 2 points)"
   ]
  },
  {
   "cell_type": "code",
   "execution_count": 169,
   "metadata": {},
   "outputs": [],
   "source": [
    "#The joint probability of a movie being an action movie and being directed by a woman is 0.036.\n",
    "#Formula: P(action movie and female director) = cell of female and action / total of table"
   ]
  },
  {
   "cell_type": "markdown",
   "metadata": {},
   "source": [
    "### Question10. What is the expected probability of a movie being an action movie AND being directed by a woman IF gender and genre were independent? (? / 2 points)"
   ]
  },
  {
   "cell_type": "code",
   "execution_count": 170,
   "metadata": {},
   "outputs": [],
   "source": [
    "#The expected probability of a movie being an action movie and being directed by a women if both variables were independent is 8.436.\n",
    "#Formula: (row total*column total) / table total"
   ]
  },
  {
   "cell_type": "markdown",
   "metadata": {},
   "source": [
    "## Task 4: Descriptive Statistics by Category (pg 24-30 and pg 250-256) (? / 20 points)"
   ]
  },
  {
   "cell_type": "markdown",
   "metadata": {},
   "source": [
    "### Question1. Using pandas statistics functions (pg. 137-141) and the groupby method determine the mean for production cost by gender. (? / 5 points)"
   ]
  },
  {
   "cell_type": "code",
   "execution_count": 171,
   "metadata": {},
   "outputs": [
    {
     "name": "stdout",
     "output_type": "stream",
     "text": [
      "<pandas.core.groupby.generic.SeriesGroupBy object at 0x0000024827C972E0>\n",
      "dirGender\n",
      "female    53.186599\n",
      "male      64.998486\n",
      "Name: prodcost, dtype: float64\n"
     ]
    }
   ],
   "source": [
    "g_prod = df['prodcost'].groupby(df['dirGender'])\n",
    "print(g_prod)\n",
    "\n",
    "sub_gprod_mean = g_prod.mean()\n",
    "print(sub_gprod_mean)"
   ]
  },
  {
   "cell_type": "markdown",
   "metadata": {},
   "source": [
    "### Question2. Determine and print the mean for production cost by genre. For this question instead of writing four individual print statements use a for loop to iterate over the different genre’s that exist. This needs to be done in three steps (? / 15 points)"
   ]
  },
  {
   "cell_type": "markdown",
   "metadata": {},
   "source": [
    "#### a. Use the groupby function to calculate the mean by genre (? / 3 points)"
   ]
  },
  {
   "cell_type": "code",
   "execution_count": 172,
   "metadata": {},
   "outputs": [],
   "source": [
    "g_gen = df['prodcost'].groupby(df['genre'])\n",
    "\n",
    "sub_ggen_mean = g_gen.mean()"
   ]
  },
  {
   "cell_type": "markdown",
   "metadata": {},
   "source": [
    "#### b. Create a variable that stores the names of the genre categories  (? / 3 points)"
   ]
  },
  {
   "cell_type": "code",
   "execution_count": 173,
   "metadata": {},
   "outputs": [],
   "source": [
    "name_genres = g_gen.groups.keys()"
   ]
  },
  {
   "cell_type": "markdown",
   "metadata": {},
   "source": [
    "#### c. Iterate over this variable using a for loop and print the means for each category using a full sentence of the form \"The mean production cost for an xxxx movie is yyyy. (? / 9 points)"
   ]
  },
  {
   "cell_type": "code",
   "execution_count": 174,
   "metadata": {},
   "outputs": [
    {
     "name": "stdout",
     "output_type": "stream",
     "text": [
      "The mean production cost for an action movie is 94.58533282673791\n",
      "The mean production cost for an adventure movie is 91.49018432495322\n",
      "The mean production cost for an comedy movie is 35.530387780043235\n",
      "The mean production cost for an drama movie is 42.72801437146048\n",
      "The mean production cost for an other movie is 29.381751894250385\n"
     ]
    }
   ],
   "source": [
    "for i in name_genres:\n",
    "    print(f'The mean production cost for an {i} movie is {sub_ggen_mean[i]}')"
   ]
  },
  {
   "cell_type": "markdown",
   "metadata": {},
   "source": [
    "## Task 5: Histogram visualization by group (? / 25 points)\n",
    "In this task you will learn how to use __seaborn__. Seaborn is a library built on top of matplotlib and it's closely integrated with pandas data structures.  "
   ]
  },
  {
   "cell_type": "markdown",
   "metadata": {},
   "source": [
    "### Question1.Using _groupby_ create two series, one that has the director’s income for those of the male gender, and one for females.  Use _groupby_ to first group the directorIncome values and then use _get_group(genderValue)_ to create a new series for the specified gender (? / 4 points)"
   ]
  },
  {
   "cell_type": "code",
   "execution_count": 175,
   "metadata": {},
   "outputs": [],
   "source": [
    "g_dInc = df['dirIncome'].groupby(df['dirGender'])\n",
    "g_dInc_male = g_dInc.get_group('male')\n",
    "g_dInc_female = g_dInc.get_group('female')"
   ]
  },
  {
   "cell_type": "markdown",
   "metadata": {},
   "source": [
    "### Question2. Visualize on the same plot the distribution of incomes using the histogram – plot the two histograms on top of each other for direct comparison. (? /5 points)"
   ]
  },
  {
   "cell_type": "code",
   "execution_count": 176,
   "metadata": {},
   "outputs": [
    {
     "data": {
      "text/plain": [
       "<AxesSubplot:>"
      ]
     },
     "execution_count": 176,
     "metadata": {},
     "output_type": "execute_result"
    },
    {
     "data": {
      "image/png": "[encoded data removed]",
      "text/plain": [
       "<Figure size 432x288 with 1 Axes>"
      ]
     },
     "metadata": {
      "needs_background": "light"
     },
     "output_type": "display_data"
    }
   ],
   "source": [
    "g_dInc_male.hist(bins = 20, color = 'blue')\n",
    "g_dInc_female.hist(bins = 6, color = 'red', alpha = 0.6)"
   ]
  },
  {
   "cell_type": "markdown",
   "metadata": {},
   "source": [
    "Figure 6: Bar plot showcasing both male and female dirIncome data (red is female, blue is male)"
   ]
  },
  {
   "cell_type": "markdown",
   "metadata": {},
   "source": [
    "### Question3. Plot the same data, using a boxplot, splitting by directorGender (? / 4 points)"
   ]
  },
  {
   "cell_type": "code",
   "execution_count": 177,
   "metadata": {},
   "outputs": [
    {
     "data": {
      "text/plain": [
       "<AxesSubplot:xlabel='dirGender', ylabel='dirIncome'>"
      ]
     },
     "execution_count": 177,
     "metadata": {},
     "output_type": "execute_result"
    },
    {
     "data": {
      "image/png": "[encoded data removed]",
      "text/plain": [
       "<Figure size 432x288 with 1 Axes>"
      ]
     },
     "metadata": {
      "needs_background": "light"
     },
     "output_type": "display_data"
    }
   ],
   "source": [
    "sns.boxplot(x = \"dirGender\", y = \"dirIncome\", data = df)"
   ]
  },
  {
   "cell_type": "markdown",
   "metadata": {},
   "source": [
    "Figure 7: Boxplot for dirGender and dirIncome"
   ]
  },
  {
   "cell_type": "markdown",
   "metadata": {},
   "source": [
    "### Question4. Plot the same data using a violin plot, splitting by director gender. (? / 4 points)"
   ]
  },
  {
   "cell_type": "code",
   "execution_count": 178,
   "metadata": {},
   "outputs": [
    {
     "data": {
      "text/plain": [
       "<AxesSubplot:xlabel='dirGender', ylabel='dirIncome'>"
      ]
     },
     "execution_count": 178,
     "metadata": {},
     "output_type": "execute_result"
    },
    {
     "data": {
      "image/png": "[encoded data removed]",
      "text/plain": [
       "<Figure size 432x288 with 1 Axes>"
      ]
     },
     "metadata": {
      "needs_background": "light"
     },
     "output_type": "display_data"
    }
   ],
   "source": [
    "sns.violinplot(x = \"dirGender\", y = \"dirIncome\", data = df)"
   ]
  },
  {
   "cell_type": "markdown",
   "metadata": {},
   "source": [
    "Figure 8: Violin plot for dirGender and dirIncome"
   ]
  },
  {
   "cell_type": "markdown",
   "metadata": {},
   "source": [
    "### Question5. Make a boxplot of director income split by movie genre. (? /4 points)"
   ]
  },
  {
   "cell_type": "code",
   "execution_count": 179,
   "metadata": {},
   "outputs": [
    {
     "data": {
      "text/plain": [
       "<AxesSubplot:xlabel='genre', ylabel='dirIncome'>"
      ]
     },
     "execution_count": 179,
     "metadata": {},
     "output_type": "execute_result"
    },
    {
     "data": {
      "image/png": "[encoded data removed]",
      "text/plain": [
       "<Figure size 432x288 with 1 Axes>"
      ]
     },
     "metadata": {
      "needs_background": "light"
     },
     "output_type": "display_data"
    }
   ],
   "source": [
    "sns.boxplot(x = \"genre\", y = \"dirIncome\", data = df)"
   ]
  },
  {
   "cell_type": "markdown",
   "metadata": {},
   "source": [
    "Figure 9: Boxplot for genre and dirIncome"
   ]
  },
  {
   "cell_type": "markdown",
   "metadata": {},
   "source": [
    "### Question6. Make a violinplotof director income split by movie genre (? / 4 points)"
   ]
  },
  {
   "cell_type": "code",
   "execution_count": 180,
   "metadata": {},
   "outputs": [
    {
     "data": {
      "text/plain": [
       "<AxesSubplot:xlabel='genre', ylabel='dirIncome'>"
      ]
     },
     "execution_count": 180,
     "metadata": {},
     "output_type": "execute_result"
    },
    {
     "data": {
      "image/png": "[encoded data removed]",
      "text/plain": [
       "<Figure size 432x288 with 1 Axes>"
      ]
     },
     "metadata": {
      "needs_background": "light"
     },
     "output_type": "display_data"
    }
   ],
   "source": [
    "sns.violinplot(x = \"genre\", y = \"dirIncome\", data = df)"
   ]
  },
  {
   "cell_type": "markdown",
   "metadata": {},
   "source": [
    "Figure 10: Violin plot for genre and dirIncome"
   ]
  },
  {
   "cell_type": "code",
   "execution_count": null,
   "metadata": {},
   "outputs": [],
   "source": []
  }
 ],
 "metadata": {
  "kernelspec": {
   "display_name": "Python 3 (ipykernel)",
   "language": "python",
   "name": "python3"
  },
  "language_info": {
   "codemirror_mode": {
    "name": "ipython",
    "version": 3
   },
   "file_extension": ".py",
   "mimetype": "text/x-python",
   "name": "python",
   "nbconvert_exporter": "python",
   "pygments_lexer": "ipython3",
   "version": "3.9.7"
  }
 },
 "nbformat": 4,
 "nbformat_minor": 2
}
